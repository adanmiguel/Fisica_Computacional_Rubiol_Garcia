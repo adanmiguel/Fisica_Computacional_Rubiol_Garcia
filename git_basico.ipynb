{
 "cells": [
  {
   "cell_type": "markdown",
   "metadata": {
    "heading_collapsed": true
   },
   "source": [
    "# ¿Qué son `git` y `GitHub`?"
   ]
  },
  {
   "cell_type": "markdown",
   "metadata": {
    "hidden": true
   },
   "source": [
    "Como se verá aquí, `git` es una herramienta *extremadamente* útil, y esta aseveración no sólo incluye este curso, sino va *mucho* más allá. Esto está suficientemente bien cubierto en otros lugares. "
   ]
  },
  {
   "cell_type": "markdown",
   "metadata": {
    "hidden": true
   },
   "source": [
    "[git](http://git-scm.com) es un programa que sirve para rastrear los cambios en las versiones de un programa o proyecto (\"[version control system](http://en.wikipedia.org/wiki/Revision_control)\", o VCS). Se puede/debe usar desde la línea de comandos; permite checar cambios en cualquier punto de la historia, resetear a algún punto específico del historial, tener desarrollos independientes, etc. Es código abierto. Fue inventado por Linus Torvalds en el 2005 para el manejo y desarrollo del kernel de Linux. En pocas palabras, es un manejador de repositorios."
   ]
  },
  {
   "cell_type": "markdown",
   "metadata": {
    "hidden": true
   },
   "source": [
    "[GitHub](https://github.com) es un sitio-web/red social donde uno puede hacer un desarrollo colaborativo de algún proyecto, de forma abierta o cerrada, y permite hacer respaldos en la nube. Actualmente, es donde se realizan la mayor parte de los proyectos abiertos. Los repositorios no necesariamente  deben estar en este servidor. De hecho, nosotros tenemos nuestros propios repositorios que nos brindan un poco mas de privacidad."
   ]
  },
  {
   "cell_type": "markdown",
   "metadata": {
    "hidden": true
   },
   "source": [
    "Los comandos que mostramos más adelante están diseñados para usarse en sistemas tipo Unix, es decir en Linux y Mac. Para usarlos en Windows, es necesario instalar [Git Bash](https://msysgit.github.io/) y llevar a cabo los comandos directamente desde Git Bash (no desde el Notebook). También en Linux y Mac los comandos se pueden teclear directamente desde la terminal."
   ]
  },
  {
   "cell_type": "markdown",
   "metadata": {
    "heading_collapsed": true
   },
   "source": [
    "# Creación de un repositorio `git` y primeros pasos"
   ]
  },
  {
   "cell_type": "markdown",
   "metadata": {
    "hidden": true
   },
   "source": [
    "`git` es un manejador de *repositorios* con mucha flexibilidad. Un repositorio es un directorio donde se almacena el desarrollo de un proyecto.  `git`, *en lugar* de hacer copias de cada archivo y cada uno de los cambios del proyecto, lo que hace es guardar los cambios en ciertos puntos de la historia, que el usuario define."
   ]
  },
  {
   "cell_type": "markdown",
   "metadata": {
    "hidden": true
   },
   "source": [
    "Crearemos un directorio nuevo en `/tmp` llamado prueba:\n",
    "```\n",
    "mkdir /tmp/prueba\n",
    "```\n",
    "que deberá estar vacío. Lo comprobamos con \n",
    "```\n",
    "ls -alp\n",
    "```\n",
    "(`a` sirve para listar archivos ocultos, `l` para ver los detalles, y `p` para que a los directorios se le añada un \\ al final y que sean fáciles de identificar). Desde `julia` y `IJulia` podemos ejecutar comandos desde la interfaz añadiendo un `;` al principio, pero recomiendo hacerlo desde la terminal.\n"
   ]
  },
  {
   "cell_type": "code",
   "execution_count": 3,
   "metadata": {
    "hidden": true
   },
   "outputs": [],
   "source": [
    ";rm -rf /tmp/prueba && mkdir /tmp/prueba"
   ]
  },
  {
   "cell_type": "code",
   "execution_count": 6,
   "metadata": {
    "hidden": true
   },
   "outputs": [
    {
     "name": "stdout",
     "output_type": "stream",
     "text": [
      "/tmp/prueba\n"
     ]
    }
   ],
   "source": [
    ";cd /tmp/prueba"
   ]
  },
  {
   "cell_type": "code",
   "execution_count": 7,
   "metadata": {
    "hidden": true
   },
   "outputs": [
    {
     "name": "stdout",
     "output_type": "stream",
     "text": [
      "total 144\n",
      "drwxr-xr-x  2 carlosp carlosp   4096 Aug 15 15:41 ./\n",
      "drwxrwxrwt 14 root    root    143360 Aug 15 15:41 ../\n"
     ]
    }
   ],
   "source": [
    ";ls -alp"
   ]
  },
  {
   "cell_type": "markdown",
   "metadata": {
    "hidden": true
   },
   "source": [
    "Para empezar un repositorio git, hay que ejecutar la instrucción:"
   ]
  },
  {
   "cell_type": "code",
   "execution_count": 8,
   "metadata": {
    "hidden": true
   },
   "outputs": [
    {
     "name": "stdout",
     "output_type": "stream",
     "text": [
      "Initialized empty Git repository in /tmp/prueba/.git/\n"
     ]
    }
   ],
   "source": [
    ";git init"
   ]
  },
  {
   "cell_type": "markdown",
   "metadata": {
    "hidden": true
   },
   "source": [
    "**Ejercicio 1:** Crea un directorio nuevo e iniciar un repositorio. "
   ]
  },
  {
   "cell_type": "markdown",
   "metadata": {
    "hidden": true
   },
   "source": [
    "Una vez que lo hayan hecho, el contenido de su directorio debería verse como sigue:"
   ]
  },
  {
   "cell_type": "code",
   "execution_count": 9,
   "metadata": {
    "hidden": true
   },
   "outputs": [
    {
     "name": "stdout",
     "output_type": "stream",
     "text": [
      "total 148\n",
      "drwxr-xr-x  3 carlosp carlosp   4096 Aug 15 16:18 ./\n",
      "drwxrwxrwt 14 root    root    143360 Aug 15 15:41 ../\n",
      "drwxr-xr-x  6 carlosp carlosp   4096 Aug 15 16:18 .git/\n"
     ]
    }
   ],
   "source": [
    ";ls -alp"
   ]
  },
  {
   "cell_type": "markdown",
   "metadata": {
    "hidden": true
   },
   "source": [
    "Entonces, el comando `git init` crea el directorio escondido `.git/` que contendrá toda la información del repositorio, en este caso, el contenido de este curso. (Nota que hay un punto, \".\", antes de \"git\". Eso corresponde a un archivo o directorio escondido.)\n"
   ]
  },
  {
   "cell_type": "markdown",
   "metadata": {
    "hidden": true
   },
   "source": [
    "**Ejercicio 2:** (Desde el IJulia notebook) ¿Qué hay dentro del directorio `.git`? (Hint: recuerden lo que hace `;` antes de una instrucción de linux.)"
   ]
  },
  {
   "cell_type": "code",
   "execution_count": 11,
   "metadata": {
    "hidden": true
   },
   "outputs": [
    {
     "name": "stdout",
     "output_type": "stream",
     "text": [
      "total 36\n",
      "drwxr-xr-x 6 carlosp carlosp 4096 Aug 15 16:18 ./\n",
      "drwxr-xr-x 3 carlosp carlosp 4096 Aug 15 16:18 ../\n",
      "-rw-r--r-- 1 carlosp carlosp   92 Aug 15 16:18 config\n",
      "-rw-r--r-- 1 carlosp carlosp   73 Aug 15 16:18 description\n",
      "-rw-r--r-- 1 carlosp carlosp   23 Aug 15 16:18 HEAD\n",
      "drwxr-xr-x 2 carlosp carlosp 4096 Aug 15 16:18 hooks/\n",
      "drwxr-xr-x 2 carlosp carlosp 4096 Aug 15 16:18 info/\n",
      "drwxr-xr-x 4 carlosp carlosp 4096 Aug 15 16:18 objects/\n",
      "drwxr-xr-x 4 carlosp carlosp 4096 Aug 15 16:18 refs/\n"
     ]
    }
   ],
   "source": [
    ";ls .git -alp"
   ]
  },
  {
   "cell_type": "code",
   "execution_count": 12,
   "metadata": {
    "hidden": true
   },
   "outputs": [
    {
     "name": "stdout",
     "output_type": "stream",
     "text": [
      "[core]\n",
      "\trepositoryformatversion = 0\n",
      "\tfilemode = true\n",
      "\tbare = false\n",
      "\tlogallrefupdates = true\n"
     ]
    }
   ],
   "source": [
    ";cat .git/config"
   ]
  },
  {
   "cell_type": "markdown",
   "metadata": {
    "hidden": true
   },
   "source": [
    "Este archivo contiene información del repositorio, de los branches y de \"hermanos\". \n",
    "```\n",
    "    repositoryformatversion\n",
    "```\n",
    "se refiere a la forma en que guarda la informarción. Es una opción avanzada y que no nos preocupa aca.\n",
    "```\t\n",
    "    filemode = true = 0\n",
    "```\n",
    "se refiere a si guardar la información de que algún archivo es o no ejecutable, en sintonía con el comando chmod en linux.\n",
    "```\n",
    "    bare = false\n",
    "```\n",
    "dice si un repositorio contiene los archivos explícitos o solo la versión comprimida de ellos. En términos técnicos, determina si se tiene o no un `workingdirectory`.\n",
    "```\n",
    "\tlogallrefupdates = true\n",
    "```\n",
    "determina si guarda o no todos los puntos en donde estamos cuando hacemos un commit. Es útil para determinar la historia de lo que hacemos. \n",
    "\n",
    "\n",
    "\n",
    "Otro ejemplo un poco mas complicado es\n",
    "```\n",
    "[I] |pablo_mezcla✓16:20 15.08 ~/[*]/metro> cat .git/config \n",
    "[core]\n",
    "\trepositoryformatversion = 0\n",
    "\tfilemode = true\n",
    "\tbare = false\n",
    "\tlogallrefupdates = true\n",
    "[remote \"origin\"]\n",
    "\turl = ssh://git@carlosp.fisica.unam.mx/metrology\n",
    "\tfetch = +refs/heads/*:refs/remotes/origin/*\n",
    "[branch \"master\"]\n",
    "\tremote = origin\n",
    "\tmerge = refs/heads/master\n",
    "[branch \"pablo_mezcla\"]\n",
    "\tremote = origin\n",
    "\tmerge = refs/heads/pablo_mezcla\n",
    "[I] |pablo_mezcla✓16:20 15.08 ~/[*]/metro> \n",
    "```"
   ]
  },
  {
   "cell_type": "markdown",
   "metadata": {
    "hidden": true
   },
   "source": [
    "Antes de seguir adelante, **conviene** que ejecuten los siguientes comandos, con los cambios apropiados a ustedes:\n",
    "```\n",
    "git config --global user.name \"Carlos Pineda\"\n",
    "git config --global user.email \"carlosp@fisica.unam.mx\"\n",
    "git config --global color.ui \"auto\"\n",
    "```\n",
    "Estos comandos tienen como objetivo configurar la cuenta desde donde están trabajando. Los dos primeros sirven para que los cambios que hagan queden *debidamente firmados*, por así decirlo; el último sirve para ver la vida de colores, desde la terminal.\n",
    "\n",
    "Su correo no va a pasar a ser parte de ninguna lista, pero si algun desarrollador quiere contactarlo respecto a algun algun `commit`, lo va a poder hacer viendo su firma. "
   ]
  },
  {
   "cell_type": "code",
   "execution_count": 3,
   "metadata": {
    "hidden": true
   },
   "outputs": [],
   "source": [
    ";git config --global user.name \"Carlos Pineda\""
   ]
  },
  {
   "cell_type": "code",
   "execution_count": 4,
   "metadata": {
    "collapsed": true,
    "hidden": true
   },
   "outputs": [],
   "source": [
    ";git config --global user.email \"carlosp@fisica.unam.mx\""
   ]
  },
  {
   "cell_type": "code",
   "execution_count": 5,
   "metadata": {
    "collapsed": true,
    "hidden": true
   },
   "outputs": [],
   "source": [
    ";git config --global color.ui \"auto\""
   ]
  },
  {
   "cell_type": "markdown",
   "metadata": {},
   "source": [
    "# Git status, commit y gitignore"
   ]
  },
  {
   "cell_type": "markdown",
   "metadata": {},
   "source": [
    "Podemos ver el proceso como el proceso de actualizar un álbum familiar. \n",
    "\n",
    "`git add` es como decir quienes van a aparecer en el álbum de fotos  \n",
    "`git commit` es como tomar una foto  \n",
    "`git push` es como actualizar una copia del album en otro sitio  \n",
    "`git pull` es actualizar nuestra copia con respecto a otro sitio  "
   ]
  },
  {
   "cell_type": "markdown",
   "metadata": {},
   "source": [
    "Para ver la situación o *status* del repo, ejecutamos la instrucción\n",
    "```\n",
    "git status\n",
    "```"
   ]
  },
  {
   "cell_type": "code",
   "execution_count": 13,
   "metadata": {},
   "outputs": [
    {
     "name": "stdout",
     "output_type": "stream",
     "text": [
      "On branch master\n",
      "\n",
      "Initial commit\n",
      "\n",
      "nothing to commit (create/copy files and use \"git add\" to track)\n"
     ]
    }
   ],
   "source": [
    ";git status"
   ]
  },
  {
   "cell_type": "markdown",
   "metadata": {},
   "source": [
    "A fin de interpretar el contenido de la salida de `git status` empezaremos por definir ciertos términos:\n",
    "\n",
    "- Cada punto de la *historia* de un repositorio se guarda en \"branches\" (ramas).\n",
    "- En el tiempo, el usuario puede decidir guardar una representación de ese momento del desarrollo del proyecto. Cada uno de esas fotografías del desarrollo se llaman *\"commits\"*, y el guardar la historia es *hacer un commit*, del inglés, *committing*.\n",
    "\n",
    "Vamos a crear un nuevo archivo:"
   ]
  },
  {
   "cell_type": "code",
   "execution_count": 14,
   "metadata": {
    "collapsed": true
   },
   "outputs": [],
   "source": [
    ";date >> nuevo_archivo.txt"
   ]
  },
  {
   "cell_type": "code",
   "execution_count": 15,
   "metadata": {},
   "outputs": [
    {
     "name": "stdout",
     "output_type": "stream",
     "text": [
      "On branch master\n",
      "\n",
      "Initial commit\n",
      "\n",
      "Untracked files:\n",
      "  (use \"git add <file>...\" to include in what will be committed)\n",
      "\n",
      "\tnuevo_archivo.txt\n",
      "\n",
      "nothing added to commit but untracked files present (use \"git add\" to track)\n"
     ]
    }
   ],
   "source": [
    ";git status"
   ]
  },
  {
   "cell_type": "markdown",
   "metadata": {},
   "source": [
    "Entonces, el resultado de `git status` indica:\n",
    "- Que estamos en la rama *master*; de ahora en adelante, en el branch master, que es el de default y, de hecho, el principal.\n",
    "- Que estamos en el *commit* inicial, es decir, que no se ha guardado ningún cambio aún en el repositorio.\n",
    "- Que hay un archivo cuyos cambios, en este momento, no se están siguiendo: *untracked files*.\n",
    "- Y, lo más importante, **qué es lo que hay que hacer** para hacer que la historia de uno o varios archivos sea seguida. O sea, que esos archivos sean *tracked*: `(use \"git add\" to track)`"
   ]
  },
  {
   "cell_type": "markdown",
   "metadata": {},
   "source": [
    "Vayamos paso a paso. Nos interesa seguir los cambios de \"nuevo_archivo.txt\". Entonces, siguiendo lo que nos dice, ejecutaremos:\n",
    "```\n",
    "git add nuevo_archivo.txt\n",
    "```"
   ]
  },
  {
   "cell_type": "code",
   "execution_count": 16,
   "metadata": {},
   "outputs": [],
   "source": [
    "; git add nuevo_archivo.txt"
   ]
  },
  {
   "cell_type": "code",
   "execution_count": 17,
   "metadata": {},
   "outputs": [
    {
     "name": "stdout",
     "output_type": "stream",
     "text": [
      "On branch master\n",
      "\n",
      "Initial commit\n",
      "\n",
      "Changes to be committed:\n",
      "  (use \"git rm --cached <file>...\" to unstage)\n",
      "\n",
      "\tnew file:   nuevo_archivo.txt\n",
      "\n"
     ]
    }
   ],
   "source": [
    "; git status"
   ]
  },
  {
   "cell_type": "markdown",
   "metadata": {},
   "source": [
    "A pesar de que aún **no** hemos guardado este punto en la historia del proyecto (`Changes to be committed:`), vemos que git ahora nos avisa de los cambios que serán hechos: se incluirá el nuevo archivo `nuevo_archivo.txt`. Es como si nos avisara que a la hora de tomar la foto, ese archivo va a aparecer. También nos dice cómo dar marcha atrás a los cambios: `(use \"git rm --cached <file>...\" to unstage)`; esto serviría para decir cuando no queremos que alguien salga en la foto (aún no la hemos tomado).\n",
    "\n",
    "Para guardar este punto de la historia del proyecto ejecutaremos:\n",
    "```\n",
    "git commit -m \"Se incluye un archivo importante\"\n",
    "```\n",
    "Aquí, la bandera `-m` avisa que escribiremos una línea de mensaje, escrito entre comillas. Ese mensaje habla de los cambios que se hicieron (de manera resumida) y sirven como recordatorio. Ese es el punto donde tomamos la foto.\n",
    "\n",
    "**NOTA**: De igual manera uno puede escribir la línea de resumen y más detalles de los cambios que se guardan, cosa que obviamente es beneficiosa. Para esto último, uno ejecutaría `git commit` (sin ninguna bandera ni nada más); esto abrirá un editor, por default \"vi\", donde escribiremos una línea de resumen, y dejando un espacio en blanco, lo que queramos más detallado. Esto **conviene** hacerlo desde la terminal.\n",
    "\n",
    "Ver [aquí](http://tbaggery.com/2008/04/19/a-note-about-git-commit-messages.html) para una guía de \"buenas prácticas\" sobre como escribir los mensajes en los commits; vale la pena leerlo!"
   ]
  },
  {
   "cell_type": "code",
   "execution_count": 18,
   "metadata": {},
   "outputs": [
    {
     "name": "stdout",
     "output_type": "stream",
     "text": [
      "[master (root-commit) 6169250] Se incluye un archivo importante\n",
      " 1 file changed, 1 insertion(+)\n",
      " create mode 100644 nuevo_archivo.txt\n"
     ]
    }
   ],
   "source": [
    "; git commit -m \"Se incluye un archivo importante\""
   ]
  },
  {
   "cell_type": "markdown",
   "metadata": {},
   "source": [
    "El mensaje indica que hemos hecho el primer commit, etiquetado \"3225b9d\", y que éste incluye 1 inserción (indica el numero de lineas nuevas). Esta etiqueta (que será otra para ustedes), que de hecho es una etiqueta abreviada, se llama \"hash\" e indetifica completamente el commit. En particular, tiene información:\n",
    "* de donde viene el commit (visto como un arbol)\n",
    "* del autor\n",
    "* la fecha del commit\n",
    "* los contenidos del commit\n",
    "todo en solo 40 caracteres.\n"
   ]
  },
  {
   "cell_type": "markdown",
   "metadata": {},
   "source": [
    "**Ejercicio 3:** ¿Qué indica `git status` ahora?"
   ]
  },
  {
   "cell_type": "code",
   "execution_count": 19,
   "metadata": {},
   "outputs": [
    {
     "name": "stdout",
     "output_type": "stream",
     "text": [
      "On branch master\n",
      "nothing to commit, working directory clean\n"
     ]
    }
   ],
   "source": [
    ";git status"
   ]
  },
  {
   "cell_type": "markdown",
   "metadata": {},
   "source": [
    "**Este es el estado que uno debe tener al final del día, y es el que se considera *limpio* **"
   ]
  },
  {
   "cell_type": "markdown",
   "metadata": {},
   "source": [
    "Para saber más detalles de la historia del repositorio, o sea, echarle un ojo a la bitácora (*log*), uno utiliza la instrucción \n",
    "```\n",
    "git log\n",
    "```"
   ]
  },
  {
   "cell_type": "code",
   "execution_count": 20,
   "metadata": {},
   "outputs": [
    {
     "name": "stdout",
     "output_type": "stream",
     "text": [
      "commit 61692505f251f8f3214a54d817ed2500129b6151\n",
      "Author: Carlos Pineda <carlospgmat03@gmail.com>\n",
      "Date:   Mon Aug 15 17:18:17 2016 -0500\n",
      "\n",
      "    Se incluye un archivo importante\n"
     ]
    }
   ],
   "source": [
    "; git log"
   ]
  },
  {
   "cell_type": "markdown",
   "metadata": {},
   "source": [
    "Aquí ven por qué arriba dije que la etiqueta es abreviada; también ven que yo hice los cambios, cuando, y mi email."
   ]
  },
  {
   "cell_type": "markdown",
   "metadata": {},
   "source": [
    " "
   ]
  },
  {
   "cell_type": "markdown",
   "metadata": {},
   "source": [
    "Ahora, veremos cómo hacer para que ciertos archivos simplemente no se consideren en la lista. Por ejemplo, si nuestro editor crea archivos `.bak`, realmente no los necesitamos guardar. Tendremos acceso a _todas_ las versiones antiguas de nuestro codigo. Simulemos esa situacion. "
   ]
  },
  {
   "cell_type": "code",
   "execution_count": 21,
   "metadata": {
    "collapsed": true
   },
   "outputs": [],
   "source": [
    ";echo \"Informacion desechable\" >> nuevo_archivo.txt.bkp"
   ]
  },
  {
   "cell_type": "code",
   "execution_count": 22,
   "metadata": {},
   "outputs": [
    {
     "name": "stdout",
     "output_type": "stream",
     "text": [
      "On branch master\n",
      "Untracked files:\n",
      "  (use \"git add <file>...\" to include in what will be committed)\n",
      "\n",
      "\tnuevo_archivo.txt.bkp\n",
      "\n",
      "nothing added to commit but untracked files present (use \"git add\" to track)\n"
     ]
    }
   ],
   "source": [
    ";git status"
   ]
  },
  {
   "cell_type": "markdown",
   "metadata": {},
   "source": [
    "Crearemos un archivo `.gitignore` que contiene un patron que deseamos ignorar:"
   ]
  },
  {
   "cell_type": "code",
   "execution_count": 44,
   "metadata": {},
   "outputs": [],
   "source": [
    ";echo nuevo_archivo.txt.bkp >> .gitignore"
   ]
  },
  {
   "cell_type": "markdown",
   "metadata": {},
   "source": [
    "Tambien podemos usar wildcards, como * . Un buen sitio donde podemos ver ejemplos es <https://github.com/github/gitignore>.\n",
    "Ahora, añadamos un poco de cosas a nuestro antiguo archivo"
   ]
  },
  {
   "cell_type": "code",
   "execution_count": null,
   "metadata": {
    "collapsed": true
   },
   "outputs": [],
   "source": [
    ";date >> nuevo_archivo.txt"
   ]
  },
  {
   "cell_type": "code",
   "execution_count": 48,
   "metadata": {},
   "outputs": [
    {
     "name": "stdout",
     "output_type": "stream",
     "text": [
      "On branch master\n",
      "Changes not staged for commit:\n",
      "  (use \"git add <file>...\" to update what will be committed)\n",
      "  (use \"git checkout -- <file>...\" to discard changes in working directory)\n",
      "\n",
      "\tmodified:   nuevo_archivo.txt\n",
      "\n",
      "Untracked files:\n",
      "  (use \"git add <file>...\" to include in what will be committed)\n",
      "\n",
      "\t.gitignore\n",
      "\n",
      "no changes added to commit (use \"git add\" and/or \"git commit -a\")\n"
     ]
    }
   ],
   "source": [
    ";git status"
   ]
  },
  {
   "cell_type": "markdown",
   "metadata": {},
   "source": [
    "Si todo va bien hasta aquí, entonces podemos ver el contenido del archivo `.gitignore` con el comando `cat`:"
   ]
  },
  {
   "cell_type": "code",
   "execution_count": 46,
   "metadata": {},
   "outputs": [
    {
     "name": "stdout",
     "output_type": "stream",
     "text": [
      "nuevo_archivo.txt.bkp\n"
     ]
    }
   ],
   "source": [
    "; cat .gitignore"
   ]
  },
  {
   "cell_type": "markdown",
   "metadata": {},
   "source": [
    "Por un lado, he modificado el archivo antiguo; además, hay un nuevo archivo que no está siendo seguido por git: `.gitignore`. El punto que **resaltar** es que el archivo `bkp` ya **no** aparece en la lista de los archivos que no se están siguiendo. Esto es justamente lo que hace el archivo `.gitignore`."
   ]
  },
  {
   "cell_type": "markdown",
   "metadata": {
    "heading_collapsed": true
   },
   "source": [
    "# Diferencias entre archivos: git diff"
   ]
  },
  {
   "cell_type": "code",
   "execution_count": 49,
   "metadata": {
    "hidden": true
   },
   "outputs": [
    {
     "name": "stdout",
     "output_type": "stream",
     "text": [
      "diff --git a/nuevo_archivo.txt b/nuevo_archivo.txt\n",
      "index fc4738e..b9e448b 100644\n",
      "--- a/nuevo_archivo.txt\n",
      "+++ b/nuevo_archivo.txt\n",
      "@@ -1 +1,2 @@\n",
      " Mon Aug 15 17:10:33 CDT 2016\n",
      "+Mon Aug 15 18:01:48 CDT 2016\n"
     ]
    }
   ],
   "source": [
    ";git diff nuevo_archivo.txt"
   ]
  },
  {
   "cell_type": "markdown",
   "metadata": {
    "hidden": true
   },
   "source": [
    "La información muestra que se agregó una línea: `+Mon Aug 15 18:01:48 CDT 2016`. Cambios más complejos se señalarán de igual manera. La herramienta que se está usando para ver las diferencias es `diff` pero se puede configurar para que sea otra.\n",
    "\n",
    "Ahora, si por alguna razón queremos revertir los cambios, que por cierto justo ahora *no* hemos guardado, entonces, siguiendo las instrucciones que están en `git status`, ejecutamos:\n",
    "```\n",
    "git checkout -- nuevo_archivo.txt\n",
    "```"
   ]
  },
  {
   "cell_type": "code",
   "execution_count": 50,
   "metadata": {
    "hidden": true
   },
   "outputs": [],
   "source": [
    "; git checkout -- nuevo_archivo.txt"
   ]
  },
  {
   "cell_type": "code",
   "execution_count": 52,
   "metadata": {
    "hidden": true
   },
   "outputs": [
    {
     "name": "stdout",
     "output_type": "stream",
     "text": [
      "Mon Aug 15 17:10:33 CDT 2016\n"
     ]
    }
   ],
   "source": [
    "; cat nuevo_archivo.txt"
   ]
  },
  {
   "cell_type": "markdown",
   "metadata": {
    "hidden": true
   },
   "source": [
    "Como se puede apreciar, hemos borrado los cambios en ese archivo y hemos vuelto al estado del último commit.\n",
    "\n",
    "Esto nos lleva a un comentario importante: si bien uno puede borrar un archivo con `rm archivo` desde la terminal, esto no implica que `git` deje de ser checando los cambios a ese archivo. Si uno quiere borrar un archivo y que también desaparezca de ser seguido por `git`, uno debe además ejecutar:\n",
    "```\n",
    "git rm archivo\n",
    "```\n"
   ]
  },
  {
   "cell_type": "markdown",
   "metadata": {
    "heading_collapsed": true
   },
   "source": [
    "# Resumen"
   ]
  },
  {
   "cell_type": "markdown",
   "metadata": {
    "hidden": true
   },
   "source": [
    "El ciclo típico de desarrollo, desde el punto de vista de `git` es:\n",
    "\n",
    "    > git status   # ver cuál es la situación\n",
    "    [Modificar archivos]\n",
    "    > git status   # revisar cambios\n",
    "    > git add *archivo*  # prepara los archivos que se cambiaron\n",
    "    > git commit -m \"Mensaje\"\n"
   ]
  },
  {
   "cell_type": "markdown",
   "metadata": {
    "hidden": true
   },
   "source": [
    "Podemos ver el proceso como el proceso de actualizar un álbum familiar. \n",
    "\n",
    "`git add` es como decir quienes van a aparecer en el álbum de fotos  \n",
    "`git commit` es como tomar una foto  \n",
    "`git push` es como actualizar una copia del album en otro sitio  \n",
    "`git pull` es actualizar nuestra copia con respecto a otro sitio  "
   ]
  },
  {
   "cell_type": "markdown",
   "metadata": {
    "heading_collapsed": true
   },
   "source": [
    "# Subiendo los cambios del repositorio (preview)"
   ]
  },
  {
   "cell_type": "markdown",
   "metadata": {
    "hidden": true
   },
   "source": [
    "Una característica de `git` es que permite subir los cambios en el repositorio a algún servidor central o un directorio de uso compratido. En particular, permite subir los cambios a [GitHub](https://github.com), donde se puede tener un respaldo del repositorio de manera gratuita, siempre y cuando sea de código abierto.\n",
    "\n",
    "Lo primero necesario, obviamente, es abrir una cuenta en GitHub, y entonces crear un nuevo repositorio; las instrucciones se encuentran [aquí](https://help.github.com/articles/creating-a-new-repository/). Una vez que se ha creado el repositorio, GitHub explica los comandos que hay que usar para subir los cambios (*push*) a GitHub. Éstos son:\n",
    "\n",
    "    > git remote add origin git@github.com:carlospgmat03/proyecto_prueba1.git\n",
    "    > git push -u origin master\n",
    "    \n",
    "Aquí, \"NombreUsuario\" es el nombre de identificación ante GitHub (el suyo o el del desarrollador principal del repositorio), y \"Proyecto\" es el nombre del repositorio. Entonces, la primer instrucción define (configura) el lugar remoto donde se subirán los cambios, en este caso a GitHub; la segunda instrucción *sube* los cambios del branch `master` del repositorio local al repositorio remoto.\n",
    "\n",
    "Por ahora dejaremos esto, pero eventualmente será algo importante, sobretodo en la parte *colaborativa*."
   ]
  },
  {
   "cell_type": "markdown",
   "metadata": {
    "heading_collapsed": true,
    "hidden": true
   },
   "source": [
    "### Referencias\n",
    "\n",
    "- La [documentación](http://git-scm.com/doc) de git (capítulo 2, por ahora).\n",
    "- [gitSimplified](http://www.gitguys.com/topics/).\n",
    "- [Think like (a) git](http://think-like-a-git.net)."
   ]
  },
  {
   "cell_type": "markdown",
   "metadata": {
    "collapsed": true
   },
   "source": [
    "# Tarea"
   ]
  },
  {
   "cell_type": "markdown",
   "metadata": {},
   "source": [
    "## Primer problema"
   ]
  },
  {
   "cell_type": "markdown",
   "metadata": {},
   "source": [
    "Deberan tener para la siguiente clase instalado `Julia`, `IJulia`, y `Jupyter`. Es decir, deben poder correr un comando cualquier (como 2+2) en el kernel de *Julia*. Hay varios recursos en la red de como instalarlo. En general, en google pueden encontrar la informacion, pero directamente en las paginas oficiales pueden encontrar buenas guias (<http://jupyter.org>, <https://github.com/JuliaLang/IJulia.jl>). [Anaconda](http://continuum.io/downloads) también está muy recomendado para tener . \n",
    "\n",
    "\n",
    "Para comprobar que hicieron la tarea, deberán enviar un correo al ayudante con un screenshot con el comando \n",
    "`versioninfo(true)` ejecutado desde Jupyter, con el kernel de Julia.\n",
    "\n"
   ]
  },
  {
   "cell_type": "code",
   "execution_count": 8,
   "metadata": {},
   "outputs": [
    {
     "name": "stdout",
     "output_type": "stream",
     "text": [
      "Julia Version 0.4.6\n",
      "Commit 2e358ce (2016-06-19 17:16 UTC)\n",
      "Platform Info:\n",
      "  System: Linux (x86_64-unknown-linux-gnu)\n",
      "  CPU: Intel(R) Xeon(R) CPU E5-1620 v2 @ 3.70GHz\n",
      "  WORD_SIZE: 64\n",
      "           \"NAME=Gentoo\"\n",
      "  uname: Linux 4.1.15-gentoo-r1 #1 SMP Thu Feb 11 08:29:33 CST 2016 x86_64 Intel(R) Xeon(R) CPU E5-1620 v2 @ 3.70GHz\n",
      "Memory: 15.621131896972656 GB (4337.02734375 MB free)\n",
      "Uptime: 334611.0 sec\n",
      "Load Avg:  0.11669921875  0.07275390625  0.0576171875\n",
      "Intel(R) Xeon(R) CPU E5-1620 v2 @ 3.70GHz: \n",
      "       speed         user         nice          sys         idle          irq\n",
      "#1  3701 MHz     273739 s        388 s     103232 s   33028520 s          0 s\n",
      "#2  3701 MHz     322748 s        361 s      93197 s   32789673 s          0 s\n",
      "#3  3701 MHz     355501 s        354 s     107568 s   32931319 s          0 s\n",
      "#4  3701 MHz     301440 s        396 s      99755 s   33015217 s          0 s\n",
      "\n",
      "  BLAS: libopenblas (USE64BITINT DYNAMIC_ARCH NO_AFFINITY Sandybridge)\n",
      "  LAPACK: libopenblas64_\n",
      "  LIBM: libopenlibm\n",
      "  LLVM: libLLVM-3.3\n",
      "Environment:\n",
      "  PATH = /usr/local/bin:/home/carlosp/bin/julia/bin:/opt/cuda/bin:/opt/bin:/home/carlosp/bin:/bin:/usr/bin\n",
      "  HOME = /home/carlosp\n",
      "  TERM = rxvt-unicode-256color\n",
      "  WINDOWPATH = 7\n",
      "\n",
      "Package Directory: /home/carlosp/.julia/v0.4\n",
      "1 required packages:\n",
      " - IJulia                        1.1.10\n",
      "8 additional packages:\n",
      " - BinDeps                       0.4.0\n",
      " - Compat                        0.8.6\n",
      " - Conda                         0.2.2\n",
      " - JSON                          0.6.0\n",
      " - Nettle                        0.2.3\n",
      " - SHA                           0.1.2\n",
      " - URIParser                     0.1.5\n",
      " - ZMQ                           0.3.2\n"
     ]
    }
   ],
   "source": [
    "versioninfo(true)"
   ]
  },
  {
   "cell_type": "markdown",
   "metadata": {},
   "source": [
    "## Tarea 2"
   ]
  },
  {
   "cell_type": "markdown",
   "metadata": {},
   "source": [
    "Crear una cuenta en github: https://github.com/"
   ]
  },
  {
   "cell_type": "markdown",
   "metadata": {
    "heading_collapsed": true
   },
   "source": [
    "# Para la siguiente iteracion:"
   ]
  },
  {
   "cell_type": "markdown",
   "metadata": {
    "hidden": true
   },
   "source": [
    "La clase fue de una hora y media. Quiza para la siguiente, tener un poco mas de material. Posiblemente de la siguiente clase."
   ]
  }
 ],
 "metadata": {
  "kernelspec": {
   "display_name": "Julia 0.6.0",
   "language": "julia",
   "name": "julia-0.6"
  },
  "language_info": {
   "file_extension": ".jl",
   "mimetype": "application/julia",
   "name": "julia",
   "version": "0.6.0"
  },
  "latex_envs": {
   "bibliofile": "biblio.bib",
   "cite_by": "apalike",
   "current_citInitial": 1,
   "eqLabelWithNumbers": true,
   "eqNumInitial": 0
  }
 },
 "nbformat": 4,
 "nbformat_minor": 1
}
