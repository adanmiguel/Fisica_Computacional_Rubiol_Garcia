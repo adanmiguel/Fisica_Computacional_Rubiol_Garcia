{
 "cells": [
  {
   "cell_type": "markdown",
   "metadata": {},
   "source": [
    "# Métodos de Integración\n"
   ]
  },
  {
   "cell_type": "markdown",
   "metadata": {},
   "source": [
    "# Integración de Riemann"
   ]
  },
  {
   "cell_type": "markdown",
   "metadata": {},
   "source": [
    "En este  método  se  calcula  la integral  de  Riemann de la siguiente manera:\n",
    "\n",
    "Sea    $f(x):\\mathbb{R} \\subset [a,b] \\rightarrow  \\mathbb{R}$ \n",
    "![04_integration-10.jpg](attachment:04_integration-10.jpg)\n",
    "Figura 1. Partición del intervalo $[a,b]$\n",
    "\n"
   ]
  },
  {
   "cell_type": "markdown",
   "metadata": {},
   "source": [
    "Se toma una partición del intervalo P=$[x_{0}=a, x_{1},x_{2},..,x_{n}=b]$ $i=1,..,n$ como se observa en la $Figura$ $1$.\n",
    "\n",
    "También definimos la norma de la partición como:\n",
    "$\\hspace{2cm}{P}=max[|x_{i}-x_{i-1}|]$\n",
    "\n",
    "Es decir la longitud del intervalo mas grande.\n",
    "\n",
    "\n",
    "Se denota la suma de Riemann como:\n",
    "$\n",
    "\\hspace{2cm} S(P,f)=\\sum_{k=1}^{n}f(t_{k})(x_{k}-x_{k-1}),\\hspace{1cm} x_{k-1}\\leq t_{k} \\leq x_{k}\n",
    "$\n",
    "\n",
    "Donde $S(P,f)$ es intuitivamente la suma del área de rectángulos con base $x_{k}-x_{k-1}$ y altura $f(t_{k})$.\n",
    "\n",
    "\n",
    "Cuanto mas cercana a cero sea la norma de la partición se tendrá una mejor aproximación al valor real de la integral.\n",
    "\n",
    "                               "
   ]
  },
  {
   "cell_type": "markdown",
   "metadata": {
    "collapsed": true
   },
   "source": [
    "# Método del Trapecio\n"
   ]
  },
  {
   "cell_type": "markdown",
   "metadata": {},
   "source": [
    "En este método para calcular la integral de una función $f(x)\\geq 0$ y continua en el intervarlo, se aproxima por una función lienal en $[a,b]$ que pasa por los puntos $(a,f(a))$, $(b,f(b))$, de tal manera que el área es cercana al área debajo del trapecio formado.\n",
    "![7.jpg](attachment:7.jpg)\n",
    "La integral se aproxima como el promedio de los valores extremos del intervalo por la longitud del intervalo, es decir:\n",
    "\n",
    "\n",
    "$\\hspace{10cm}\\int_{a}^{b} \\! f(x)  \\,dx   \\thickapprox (b-a) \\dfrac{f(a)+f(b)}{2}$"
   ]
  },
  {
   "cell_type": "markdown",
   "metadata": {},
   "source": [
    "Para usar varios trapecios procede de la siguinete manera:![integ02.jpg](attachment:integ02.jpg)\n",
    "       $Figura\\,2$.Método del trapecio compuesto."
   ]
  },
  {
   "cell_type": "markdown",
   "metadata": {},
   "source": [
    "Se divide el intervalo $[a,b]$ en n subintervalos de ancho $\\Delta x = \\dfrac{b-a}{n}$ como se observa en la $Figura\\, 2$. Y luego se aplica la regla del trapecio para cada subintervalo:"
   ]
  },
  {
   "cell_type": "markdown",
   "metadata": {},
   "source": [
    "$\\hspace{3cm}\\int_{a}^{b} \\! f(x)  \\,dx= \\int_{a}^{x_{1}} \\! f(x)+\\int_{x_{1}}^{x_{2}} \\! f(x)+ \\int_{x_{n-1}}^{b} \\! f(x)$\n",
    "$\\hspace{3cm} \\thickapprox \\dfrac{\\Delta x}{2}( f(a)+f(x_{1}+f(x_{1}+f(x_{2})+...+f(x_{n-1})+f(b))\\hspace{1.5cm} x_{i}=a+i\\Delta x$\n",
    "$\\hspace{3cm} \\int_{a}^{b} \\! f(x)  \\,dx \\thickapprox  \\! \\Delta x * [\\dfrac{f(a)+f(b)}{2}+ \\sum_{i=1}^{n-1}f(x_{i})]$"
   ]
  },
  {
   "cell_type": "markdown",
   "metadata": {},
   "source": [
    "# Regla de Simpson\n"
   ]
  },
  {
   "cell_type": "markdown",
   "metadata": {},
   "source": [
    "En este método de integración numérica, se reemplaza el integrando por una por Polinomios de orden dos (parábolas).\n",
    "el cual toma los mismos valores que f(x) en los extremos de un intervalo $[a,b]$, y en el punto medio m= $\\dfrac{a+b}{2}$.\n",
    "![Simpsons_rule%28png%29.jpg](attachment:Simpsons_rule%28png%29.jpg)"
   ]
  },
  {
   "cell_type": "markdown",
   "metadata": {},
   "source": [
    "Se puede usar la interpolación polinomial de Lagrange para encontrar una expresión para este polinomio:\n",
    "$\\hspace{3cm} p(x)=f(x_1)\\frac{(x-x_2)(x-x_3)}{(x_1-x_2)(x_1-x_3)}+\n",
    "f(x_2)\\frac{(x-x_1)(x-x_3)}{(x_2-x_1)(x_2-x_3)}\n",
    "+f(x_3)\\frac{(x-x_1)(x-x_2)}{(x_3-x_1)(x_3-x_2)}$.\n",
    "\n",
    "Entonces.\n",
    "\n",
    "$\\hspace{3cm}\\int_a^b f(x) \\,dx\\approx \n",
    "\\int_a^b f(x_1)\\frac{(x-x_2)(x-x_3)}{(x_1-x_2)(x_1-x_3)}+\n",
    "f(x_2)\\frac{(x-x_1)(x-x_3)}{(x_2-x_1)(x_2-x_3)}\n",
    "+f(x_3)\\frac{(x-x_1)(x-x_2)}{(x_3-x_1)(x_3-x_2)}\\,dx$.\n",
    "\n",
    "\n",
    "Dado que la integración es lineal, sólo nos interesa integrar cada término en la suma. Ahora, tomando $ x_{j} = a + h_{j} $ donde $j = 0,1,2..n $ y $ h =\\dfrac{b-a}{2} $, podemos reescribir los cocientes de la última integral como:\n",
    "\n"
   ]
  },
  {
   "cell_type": "markdown",
   "metadata": {},
   "source": [
    "$\\int_a^b p(x)\\, dx = hf(x_0)\\int_0^2\\frac{(t-1)(t-2)}{(0-1)(0-2)}\\,dt + \n",
    " hf(x_1)\\int_0^2\\frac{(t-0)(t-2)}{(1-0)(1-2)}\\,dt + \n",
    " hf(x_2)\\int_0^2\\frac{(t-0)(t-1)}{(2-0)(2-1)}\\,dt.$\n",
    " \n",
    " \n",
    "Si calculamos las integrales en la última expresión obtenemos:\n",
    "\n",
    "$\\int_a^b p(x)\\,dx=hf(x_0)\\frac{1}{3} + hf(x_1)\\frac{4}{3}+hf(x_2)\\frac{1}{3}$\n",
    "\n",
    "Obtenemos la Regla de Simpson:\n",
    "$\\int_a^b f(x)\\,dx \\approx \\frac{h}{3}(f(x_0) + 4f(x_1) + f(x_2))$\n",
    "\n"
   ]
  }
 ],
 "metadata": {
  "kernelspec": {
   "display_name": "Julia 0.6.0",
   "language": "julia",
   "name": "julia-0.6"
  },
  "language_info": {
   "file_extension": ".jl",
   "mimetype": "application/julia",
   "name": "julia",
   "version": "0.6.0"
  }
 },
 "nbformat": 4,
 "nbformat_minor": 2
}
