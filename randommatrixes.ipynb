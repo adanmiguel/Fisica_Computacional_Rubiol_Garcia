{
 "cells": [
  {
   "cell_type": "markdown",
   "metadata": {},
   "source": [
    "# Matrices aleatorias, decoherencia, caos cuántico\n"
   ]
  },
  {
   "cell_type": "code",
   "execution_count": 34,
   "metadata": {},
   "outputs": [
    {
     "data": {
      "text/plain": [
       "GOE (generic function with 1 method)"
      ]
     },
     "execution_count": 34,
     "metadata": {},
     "output_type": "execute_result"
    }
   ],
   "source": [
    "function GOE(dim)#se crea la función para en ensamble de matrices aleatorias GOE\n",
    "   (x -> (x+x')/2)(randn(dim,dim))\n",
    "end"
   ]
  },
  {
   "cell_type": "code",
   "execution_count": 35,
   "metadata": {},
   "outputs": [
    {
     "data": {
      "text/plain": [
       "GUE (generic function with 1 method)"
      ]
     },
     "execution_count": 35,
     "metadata": {},
     "output_type": "execute_result"
    }
   ],
   "source": [
    "function GUE(dim)#se crea la función para en ensamble de matrices aleatorias GUE\n",
    "  (x -> (x+x')/2)(randn(dim,dim)+im*randn(dim,dim))\n",
    "    end"
   ]
  },
  {
   "cell_type": "code",
   "execution_count": 36,
   "metadata": {},
   "outputs": [
    {
     "data": {
      "text/plain": [
       "2×2 Array{Int64,2}:\n",
       " 1   0\n",
       " 0  -1"
      ]
     },
     "execution_count": 36,
     "metadata": {},
     "output_type": "execute_result"
    }
   ],
   "source": [
    "Sz=[1 0;0 -1]#se crea el operador matriz de pauli Sigma Z"
   ]
  },
  {
   "cell_type": "code",
   "execution_count": 37,
   "metadata": {},
   "outputs": [
    {
     "data": {
      "text/plain": [
       "I (generic function with 1 method)"
      ]
     },
     "execution_count": 37,
     "metadata": {},
     "output_type": "execute_result"
    }
   ],
   "source": [
    "function I(n)\n",
    "    f = zeros(n*n) #Se crea un vector de n^2 ceros.\n",
    "    \n",
    "    i = 1 #Se inicia el valor del índice que corresponde a los elementos \n",
    "    #de la matriz cuyo valor es 1\n",
    "    \n",
    "    while i < n*n+1 #Se asigna el valor 1 a los índices de la diagonal.\n",
    "        f[i] = 1\n",
    "        i = i + n + 1\n",
    "    end\n",
    "    \n",
    "    A = reshape(f,(n,n))\n",
    "    return A\n",
    "end"
   ]
  },
  {
   "cell_type": "code",
   "execution_count": 38,
   "metadata": {},
   "outputs": [
    {
     "data": {
      "text/plain": [
       "H (generic function with 1 method)"
      ]
     },
     "execution_count": 38,
     "metadata": {},
     "output_type": "execute_result"
    }
   ],
   "source": [
    "a=3#En esta función de crea un Hamiltoniano definido como:\n",
    "function H(n)\n",
    "H=(a/2)*kron(Sz,I(n))+ kron(I(2),GUE(n))+GOE(2*n)\n",
    "end"
   ]
  },
  {
   "cell_type": "code",
   "execution_count": 39,
   "metadata": {},
   "outputs": [
    {
     "data": {
      "text/plain": [
       "30×30 Array{Complex{Float64},2}:\n",
       "    1.45512+0.0im        -1.27986+0.133069im   …     1.03973+0.0im      \n",
       "   -1.27986-0.133069im   0.783837+0.0im            -0.877062+0.0im      \n",
       "    1.14598-1.02309im    0.599194-0.901847im        0.396221+0.0im      \n",
       "  -0.788458+0.58061im    0.186087-1.80992im        -0.253892-0.0im      \n",
       "   -1.61383-0.620142im  -0.237519+0.515279im       -0.928127+0.0im      \n",
       "  -0.150646+0.602161im   -0.18632-0.205116im   …   -0.106165+0.0im      \n",
       "   -0.39759+0.755425im  -0.701603+0.188958im        -1.03044+0.0im      \n",
       "  -0.703577-0.974996im   0.653698-1.07913im        -0.954863-0.0im      \n",
       "   0.582099-0.32387im   -0.581492-0.476198im        0.606244+0.0im      \n",
       "   0.188337-0.927095im    1.56438-0.640164im        -0.16267+0.0im      \n",
       "   -1.27842+0.793869im    0.55186-0.18269im    …  -0.0165247-0.0im      \n",
       "  -0.237677+0.632805im  -0.209514-0.0288022im       0.141454+0.0im      \n",
       "   0.637556+0.667077im   -1.01832+1.13763im         0.885426+0.0im      \n",
       "           ⋮                                   ⋱                        \n",
       "   0.036033+0.0im        0.624314-0.0im            -0.573017-0.515298im \n",
       "  -0.445188-0.0im        0.720701+0.0im              1.46675+0.766333im \n",
       "   0.294682+0.0im         1.07653-0.0im        …     1.69682+0.639179im \n",
       "   0.727601+0.0im       -0.297714+0.0im            -0.302072+0.429542im \n",
       "  -0.220126-0.0im        0.358304-0.0im             0.743405-0.368785im \n",
       " -0.0527518-0.0im        -1.64562-0.0im             0.324046+0.680419im \n",
       "   -1.19546-0.0im        0.805167-0.0im             -2.32939+0.0788715im\n",
       "  -0.804012+0.0im       -0.481927-0.0im        …   -0.169083-0.392766im \n",
       "  -0.513852+0.0im        -1.10118-0.0im            -0.548765+0.287912im \n",
       "  -0.172716+0.0im        -1.41966+0.0im              -1.3648+0.868861im \n",
       "   0.152595+0.0im        -0.53292+0.0im             -1.05734-1.21139im  \n",
       "    1.03973-0.0im       -0.877062-0.0im            -0.969894+0.0im      "
      ]
     },
     "execution_count": 39,
     "metadata": {},
     "output_type": "execute_result"
    }
   ],
   "source": [
    "h=H(15)"
   ]
  },
  {
   "cell_type": "code",
   "execution_count": 40,
   "metadata": {},
   "outputs": [
    {
     "data": {
      "text/plain": [
       "random_state (generic function with 1 method)"
      ]
     },
     "execution_count": 40,
     "metadata": {},
     "output_type": "execute_result"
    }
   ],
   "source": [
    "#dim del estado inicial es 100\n",
    "function random_state(dim)#En esta función se crean estados factorizables aleatorios\n",
    "    v=kron([1,0],randn(dim,1))\n",
    "    v=v/norm(v)\n",
    "    return v\n",
    "end\n"
   ]
  },
  {
   "cell_type": "code",
   "execution_count": 41,
   "metadata": {},
   "outputs": [],
   "source": [
    "\n",
    "t=0:0.1:100;#se crea una lista de tiempo"
   ]
  },
  {
   "cell_type": "code",
   "execution_count": 42,
   "metadata": {},
   "outputs": [
    {
     "data": {
      "text/plain": [
       "projector (generic function with 1 method)"
      ]
     },
     "execution_count": 42,
     "metadata": {},
     "output_type": "execute_result"
    }
   ],
   "source": [
    "function projector(state)#se crea el operador de proyección\n",
    "    return state*state'\n",
    "end"
   ]
  },
  {
   "cell_type": "code",
   "execution_count": 43,
   "metadata": {},
   "outputs": [
    {
     "data": {
      "text/plain": [
       "30×1 Array{Float64,2}:\n",
       "  0.0535877  \n",
       "  0.000804421\n",
       "  0.506518   \n",
       " -0.226593   \n",
       " -0.191202   \n",
       "  0.157662   \n",
       "  0.1434     \n",
       " -0.0291314  \n",
       "  0.555287   \n",
       " -0.346902   \n",
       "  0.299109   \n",
       "  0.0670492  \n",
       " -0.0323638  \n",
       "  ⋮          \n",
       " -0.0        \n",
       " -0.0        \n",
       "  0.0        \n",
       "  0.0        \n",
       " -0.0        \n",
       "  0.0        \n",
       " -0.0        \n",
       "  0.0        \n",
       "  0.0        \n",
       " -0.0        \n",
       "  0.0        \n",
       " -0.0        "
      ]
     },
     "execution_count": 43,
     "metadata": {},
     "output_type": "execute_result"
    }
   ],
   "source": [
    "V=random_state(15)"
   ]
  },
  {
   "cell_type": "code",
   "execution_count": 44,
   "metadata": {},
   "outputs": [
    {
     "data": {
      "text/plain": [
       "1001-element Array{Any,1}:\n",
       " Complex{Float64}[0.00287164+0.0im 4.31071e-5+0.0im … 0.0+0.0im 0.0+0.0im; 4.31071e-5+0.0im 6.47094e-7+0.0im … 0.0+0.0im 0.0+0.0im; … ; 0.0+0.0im 0.0+0.0im … 0.0+0.0im 0.0+0.0im; 0.0+0.0im 0.0+0.0im … 0.0+0.0im 0.0+0.0im]                                                                                                                                                                                                              \n",
       " Complex{Float64}[0.00254492-1.95156e-18im -0.00171413-0.00347653im … 0.00245861+0.00152885im 0.00259259+0.00311096im; -0.00171413+0.00347653im 0.00590372-3.68629e-18im … -0.00374451+0.00232887im -0.00599601+0.00144628im; … ; 0.00245861-0.00152885im -0.00374451-0.00232887im … 0.00329368-3.25261e-19im 0.00437356+0.00144796im; 0.00259259-0.00311096im -0.00599601-0.00144628im … 0.00437356-0.00144796im 0.00644405+3.25261e-19im]\n",
       " Complex{Float64}[0.000435232-3.35425e-18im 0.00154784-0.00252665im … 0.000866811+0.00159225im -0.000340446+0.00268631im; 0.00154784+0.00252665im 0.0201725-1.04083e-17im … -0.00616076+0.0106947im -0.0168055+0.00757705im; … ; 0.000866811-0.00159225im -0.00616076-0.0106947im … 0.00755139+2.1684e-18im 0.0091495+0.00659555im; -0.000340446-0.00268631im -0.0168055-0.00757705im … 0.0091495-0.00659555im 0.0168465+2.60209e-18im]    \n",
       " Complex{Float64}[0.00547309-2.38524e-18im 0.00972224+0.00886219im … -0.00279524+0.00352008im -0.0108311-0.00131194im; 0.00972224-0.00886219im 0.0316202+6.93889e-18im … 0.000734423+0.0107791im -0.0213644+0.0152076im; … ; -0.00279524-0.00352008im 0.000734423-0.0107791im … 0.00369158-2.1684e-18im 0.00468794+0.0076362im; -0.0108311+0.00131194im -0.0213644-0.0152076im … 0.00468794-0.0076362im 0.0217491-1.82146e-17im]           \n",
       " Complex{Float64}[0.0186678-2.25514e-17im 0.00906052+0.0209125im … 0.00475835+0.000871985im -0.0191652-0.00628389im; 0.00906052-0.0209125im 0.0278246-3.46945e-18im … 0.00328633-0.00490728im -0.0163414+0.0184197im; … ; 0.00475835-0.000871985im 0.00328633+0.00490728im … 0.00125362-2.1684e-18im -0.00517865-0.000706522im; -0.0191652+0.00628389im -0.0163414-0.0184197im … -0.00517865+0.000706522im 0.021791+2.08167e-17im]         \n",
       " Complex{Float64}[0.022146+3.90313e-18im -0.002352+0.015904im … 0.0185227-0.00663059im -0.0191518-0.0109464im; -0.002352-0.015904im 0.0116712-6.50521e-18im … -0.00672892-0.0125978im -0.00582708+0.0149163im; … ; 0.0185227+0.00663059im -0.00672892+0.0125978im … 0.0174774-1.30104e-17im -0.012741-0.0148896im; -0.0191518+0.0109464im -0.00582708-0.0149163im … -0.012741+0.0148896im 0.021973+1.73472e-18im]                          \n",
       " Complex{Float64}[0.0133466+1.47451e-17im -0.00626287-0.00212135im … 0.023378-0.00238762im -0.00841431-0.0160337im; -0.00626287+0.00212135im 0.00327603+0.0im … -0.0105906+0.00483618im 0.00649686+0.00618639im; … ; 0.023378+0.00238762im -0.0105906-0.00483618im … 0.0413764+3.81639e-17im -0.0118703-0.02959im; -0.00841431+0.0160337im 0.00649686-0.00618639im … -0.0118703+0.02959im 0.0245665-1.04083e-17im]                         \n",
       " Complex{Float64}[0.0163031+1.12757e-17im 0.0100682-0.0107226im … 0.021342+0.0152395im 0.0130731-0.0166848im; 0.0100682+0.0107226im 0.01327+0.0im … 0.00315701+0.0234481im 0.019047-0.00170574im; … ; 0.021342-0.0152395im 0.00315701-0.0234481im … 0.0421838+1.38778e-17im 0.00151736-0.0340619im; 0.0130731+0.0166848im 0.019047+0.00170574im … 0.00151736+0.0340619im 0.0275583+2.08167e-17im]                                          \n",
       " Complex{Float64}[0.0416843+3.1225e-17im 0.0325725-0.00331533im … 0.0211554+0.0185531im 0.0342288-0.00291882im; 0.0325725+0.00331533im 0.0257162+0.0im … 0.0150554+0.0161802im 0.0269789+0.000441564im; … ; 0.0211554-0.0185531im 0.0150554-0.0161802im … 0.0189944-2.08167e-17im 0.0160725-0.0167161im; 0.0342288+0.00291882im 0.0269789-0.000441564im … 0.0160725+0.0167161im 0.0283112-1.04083e-17im]                                   \n",
       " Complex{Float64}[0.0641955-3.46945e-17im 0.0375446+0.00407792im … 0.0177998-0.00554881im 0.037764+0.0248822im; 0.0375446-0.00407792im 0.0222169+1.03216e-16im … 0.0100577-0.00437591im 0.0236668+0.0121534im; … ; 0.0177998+0.00554881im 0.0100577+0.00437591im … 0.00541503+1.47451e-17im 0.00832026+0.0101634im; 0.037764-0.0248822im 0.0236668-0.0121534im … 0.00832026-0.0101634im 0.0318596-4.33681e-18im]                           \n",
       " Complex{Float64}[0.0584329-3.81639e-17im 0.0223073+0.00143514im … 0.00665549-0.0301699im 0.023382+0.0477954im; 0.0223073-0.00143514im 0.00855125+3.03577e-18im … 0.00179981-0.0116811im 0.0101002+0.017672im; … ; 0.00665549+0.0301699im 0.00179981+0.0116811im … 0.0163353+1.69136e-17im -0.0220144+0.0175164im; 0.023382-0.0477954im 0.0101002-0.017672im … -0.0220144-0.0175164im 0.0484507+1.73472e-17im]                             \n",
       " Complex{Float64}[0.0333676+4.33681e-17im 0.00455831-0.00333707im … -0.00270298-0.0307515im 0.0093941+0.0470838im; 0.00455831+0.00333707im 0.000956446-3.79471e-18im … 0.00270619-0.00447126im -0.00342551+0.00737157im; … ; -0.00270298+0.0307515im 0.00270619+0.00447126im … 0.0285595+2.60209e-17im -0.0441534+0.00484351im; 0.0093941-0.0470838im -0.00342551-0.00737157im … -0.0441534-0.00484351im 0.0690831+6.93889e-18im]          \n",
       " Complex{Float64}[0.0134084-2.21177e-17im -0.00330743-0.00288054im … -0.00375665-0.0183059im 0.0051588+0.0282752im; -0.00330743+0.00288054im 0.00143466+1.51788e-18im … 0.00485931+0.00370844im -0.00734688-0.00586631im; … ; -0.00375665+0.0183059im 0.00485931-0.00370844im … 0.0260448+1.69136e-17im -0.0400482-0.000878787im; 0.0051588-0.0282752im -0.00734688+0.00586631im … -0.0400482+0.000878787im 0.0616104-5.37764e-17im]       \n",
       " ⋮                                                                                                                                                                                                                                                                                                                                                                                                                                         \n",
       " Complex{Float64}[0.00147319+2.19009e-17im 0.00355977-8.3618e-5im … 0.00101074-0.00549744im -0.00251432+0.00543593im; 0.00355977+8.3618e-5im 0.00860647+1.50921e-16im … 0.00275435-0.0132265im -0.00638407+0.0129925im; … ; 0.00101074+0.00549744im 0.00275435+0.0132265im … 0.021208+3.84241e-16im -0.02201-0.00565305im; -0.00251432-0.00543593im -0.00638407-0.0129925im … -0.02201+0.00565305im 0.0243493-5.37439e-16im]               \n",
       " Complex{Float64}[0.00649393-2.27682e-16im -0.00958376+0.00400329im … 0.0180025-0.00166217im -0.0065844-0.00397635im; -0.00958376-0.00400329im 0.0166116-1.68268e-16im … -0.0275928-0.00864491im 0.00726598+0.00992736im; … ; 0.0180025+0.00166217im -0.0275928+0.00864491im … 0.0503321-1.02349e-15im -0.0172355-0.0127086im; -0.0065844+0.00397635im 0.00726598-0.00992736im … -0.0172355+0.0127086im 0.00911091-1.08366e-16im]          \n",
       " Complex{Float64}[0.0244645-9.99201e-16im -0.0293795-0.0090922im … 0.0407238-0.00892239im -0.000652596-0.00917745im; -0.0293795+0.0090922im 0.038661+1.56125e-16im … -0.0455893+0.0258499im 0.00419449+0.0107787im; … ; 0.0407238+0.00892239im -0.0455893-0.0258499im … 0.0710432+4.85723e-17im 0.00226076-0.0155148im; -0.000652596+0.00917745im 0.00419449-0.0107787im … 0.00226076+0.0155148im 0.00346017+6.97793e-16im]                \n",
       " Complex{Float64}[0.039826-2.08167e-17im -0.0389721-0.0307258im … 0.0444085-0.020748im 0.0105629-0.0141532im; -0.0389721+0.0307258im 0.0618414-3.2023e-15im … -0.0274493+0.0545643im 0.000582749+0.0219991im; … ; 0.0444085+0.020748im -0.0274493-0.0545643im … 0.0603274-6.8695e-16im 0.0191517-0.0102788im; 0.0105629+0.0141532im 0.000582749-0.0219991im … 0.0191517+0.0102788im 0.00783131-2.80592e-16im]                              \n",
       " Complex{Float64}[0.0400274+6.93889e-16im -0.0314682-0.0448561im … 0.0253379-0.0193661im 0.015566-0.0139418im; -0.0314682+0.0448561im 0.0750065-5.82867e-16im … 0.00178251+0.0436195im 0.00338622+0.0284043im; … ; 0.0253379+0.0193661im 0.00178251-0.0436195im … 0.025409-2.0383e-17im 0.0165988-0.00129421im; 0.015566+0.0139418im 0.00338622-0.0284043im … 0.0165988+0.00129421im 0.0109093-3.09431e-16im]                              \n",
       " Complex{Float64}[0.0289159-5.86337e-16im -0.0131961-0.0430921im … 0.00195739-0.00633474im 0.011928-0.0063229im; -0.0131961+0.0430921im 0.0702407+2.5327e-16im … 0.00854714+0.00580796im 0.0039793+0.0206613im; … ; 0.00195739+0.00633474im 0.00854714-0.00580796im … 0.00152029-2.49041e-16im 0.00219263+0.00218511im; 0.011928+0.0063229im 0.0039793-0.0206613im … 0.00219263-0.00218511im 0.00630296-6.55942e-18im]                     \n",
       " Complex{Float64}[0.0215087-2.67581e-16im 0.00347286-0.0322665im … -0.0154744+0.000279095im 0.00416599+0.000548479im; 0.00347286+0.0322665im 0.0489656-2.15106e-16im … -0.00291724-0.0231691im -0.000150152+0.00633821im; … ; -0.0154744-0.000279095im -0.00291724+0.0231691im … 0.0111367-2.10335e-17im -0.0029901-0.000448661im; 0.00416599-0.000548479im -0.000150152-0.00633821im … -0.0029901+0.000448661im 0.000820891+6.554e-17im]  \n",
       " Complex{Float64}[0.0262103-6.92155e-16im 0.00798179-0.0239798im … -0.0305743-0.00241238im -0.00371865+3.13981e-5im; 0.00798179+0.0239798im 0.0243697+6.56593e-16im … -0.00710366-0.028707im -0.00116116-0.00339262im; … ; -0.0305743+0.00241238im -0.00710366+0.028707im … 0.0358869+2.13371e-15im 0.0043349-0.000378888im; -0.00371865-3.13981e-5im -0.00116116+0.00339262im … 0.0043349+0.000378888im 0.000527628+1.44578e-16im]        \n",
       " Complex{Float64}[0.0369529-5.25621e-16im -0.00184226-0.0194717im … -0.0386373-0.000632341im -0.00825612-0.00581156im; -0.00184226+0.0194717im 0.0103521+3.11817e-16im … 0.00225943-0.0203277im 0.0034739-0.00406069im; … ; -0.0386373+0.000632341im 0.00225943+0.0203277im … 0.0404092+3.31332e-16im 0.00873189+0.00593517im; -0.00825612+0.00581156im 0.0034739+0.00406069im … 0.00873189-0.00593517im 0.00275858+5.27464e-16im]         \n",
       " Complex{Float64}[0.0440209-4.49293e-16im -0.0169189-0.0108721im … -0.028281+0.00557935im -0.00975189-0.014554im; -0.0169189+0.0108721im 0.0091877-8.37004e-17im … 0.00949149-0.00912909im 0.0073425+0.00318517im; … ; -0.028281-0.00557935im 0.00949149+0.00912909im … 0.0188762+5.69857e-16im 0.00442044+0.0105861im; -0.00975189+0.014554im 0.0073425-0.00318517im … 0.00442044-0.0105861im 0.00697211+7.38125e-16im]                   \n",
       " Complex{Float64}[0.0464322+1.82146e-17im -0.0239819+0.00433132im … -0.00732452-0.00072613im -0.0168968-0.0244853im; -0.0239819-0.00433132im 0.0127905-2.14997e-16im … 0.00371533+0.00105829im 0.00644303+0.0142227im; … ; -0.00732452+0.00072613im 0.00371533-0.00105829im … 0.00116677-2.29092e-16im 0.00304833+0.00359824im; -0.0168968+0.0244853im 0.00644303-0.0142227im … 0.00304833-0.00359824im 0.0190608+1.93422e-16im]           \n",
       " Complex{Float64}[0.0480243-4.85723e-17im -0.0177971+0.0176835im … 0.0010296-0.0215929im -0.0351225-0.0268718im; -0.0177971-0.0176835im 0.0131068+1.86916e-16im … -0.00833249+0.00762288im 0.00312114+0.0228911im; … ; 0.0010296+0.0215929im -0.00833249-0.00762288im … 0.00973073-2.62811e-16im 0.0113292-0.016368im; -0.0351225+0.0268718im 0.00312114-0.0228911im … 0.0113292+0.016368im 0.0407229+1.19002e-15im]                       "
      ]
     },
     "execution_count": 44,
     "metadata": {},
     "output_type": "execute_result"
    }
   ],
   "source": [
    "rho = []\n",
    "#en este for se evoluciona el estado dado en V usando el operador de evolución temporal\n",
    "for i in 1:length(t)\n",
    "    psi=(expm(-im*h*t[i]))*(projector(V))*(expm(im*h*t[i]))\n",
    "    psi=psi/norm(psi)#se normaliza el estado \n",
    "    push!(rho,psi)\n",
    "    \n",
    "end\n",
    "\n",
    "return rho# se regresa la lista de la evolución del estado V"
   ]
  },
  {
   "cell_type": "code",
   "execution_count": 45,
   "metadata": {},
   "outputs": [
    {
     "data": {
      "text/plain": [
       "30×30 Array{Complex{Float64},2}:\n",
       "  0.000435232-3.35425e-18im  …  -0.000340446+0.00268631im \n",
       "   0.00154784+0.00252665im        -0.0168055+0.00757705im \n",
       "   0.00458476+0.000710901im      -0.00797406+0.0277417im  \n",
       "  -0.00293457-0.00458482im         0.0305935-0.0145262im  \n",
       "  -0.00114144-0.000257339im       0.00248118-0.00684381im \n",
       "   0.00195757-0.00454658im   …     0.0265308+0.0156388im  \n",
       "   0.00138483+0.00525634im         -0.033526+0.00443576im \n",
       "   0.00103443-0.000228922im      0.000603789+0.00656368im \n",
       "   0.00541421+0.00533371im        -0.0371554+0.0292451im  \n",
       "  -0.00376581+0.00401394im        -0.0218289-0.0263828im  \n",
       "   0.00549596+0.00100759im   …     -0.010518+0.0331336im  \n",
       " -0.000845343-0.00696612im          0.043657+0.000231455im\n",
       "  -0.00263519-0.004636im           0.0306753-0.0126384im  \n",
       "             ⋮               ⋱                            \n",
       "  0.000870193-0.00371415im         0.0222435+0.00827622im \n",
       "  -0.00159541-0.000713813im       0.00565371-0.00928874im \n",
       "   0.00114974-0.000109953im  …  -0.000220705+0.00718234im \n",
       "   0.00113089-0.000273137im      0.000801233+0.00719363im \n",
       " -0.000896903+0.00295188im        -0.0175178-0.00784482im \n",
       " -0.000243361+0.000829152im      -0.00492727-0.00215063im \n",
       "  -0.00152677-4.45415e-5im        0.00146918-0.00938858im \n",
       "  -0.00078586+0.00161517im   …   -0.00935433-0.00611384im \n",
       "  -0.00109589+0.000241425im     -0.000632883-0.0069528im  \n",
       " -0.000120845+0.000293835im      -0.00171906-0.000975714im\n",
       "  0.000866811-0.00159225im         0.0091495+0.00659555im \n",
       " -0.000340446-0.00268631im         0.0168465+2.60209e-18im"
      ]
     },
     "execution_count": 45,
     "metadata": {},
     "output_type": "execute_result"
    }
   ],
   "source": [
    "rho[3]"
   ]
  },
  {
   "cell_type": "code",
   "execution_count": 46,
   "metadata": {},
   "outputs": [
    {
     "data": {
      "text/plain": [
       "partial_trace_pure_bipartite_mat (generic function with 1 method)"
      ]
     },
     "execution_count": 46,
     "metadata": {},
     "output_type": "execute_result"
    }
   ],
   "source": [
    "\n",
    "function partial_trace_pure_bipartite_mat(state,dim,system)\n",
    "    dimtotal=length(state)[1]\n",
    "    dimcomp=Int(dimtotal/dim)\n",
    "    psi=reshape(state,(dimcomp,dim))'\n",
    "    if system==1\n",
    "        psi=conj(psi)\n",
    "        return psi*psi'\n",
    "        elseif system==2\n",
    "        return psi'*psi\n",
    "    end\n",
    "end"
   ]
  },
  {
   "cell_type": "code",
   "execution_count": 47,
   "metadata": {},
   "outputs": [
    {
     "data": {
      "text/plain": [
       "1001-element Array{Any,1}:\n",
       " Complex{Float64}[1.0+0.0im 0.0+0.0im; 0.0-0.0im 0.0+0.0im]                                    \n",
       " Complex{Float64}[0.950172+0.0im 0.0273438+0.0567381im; 0.0273438-0.0567381im 0.0498276+0.0im] \n",
       " Complex{Float64}[0.839544+0.0im 0.0649804+0.0629304im; 0.0649804-0.0629304im 0.160456+0.0im]  \n",
       " Complex{Float64}[0.727982+0.0im 0.0559447+0.00320251im; 0.0559447-0.00320251im 0.272018+0.0im]\n",
       " Complex{Float64}[0.643079+0.0im 0.0163506-0.0645272im; 0.0163506+0.0645272im 0.356921+0.0im]  \n",
       " Complex{Float64}[0.604863+0.0im 0.00783568-0.0724457im; 0.00783568+0.0724457im 0.395137+0.0im]\n",
       " Complex{Float64}[0.634326+0.0im 0.0538512-0.0125427im; 0.0538512+0.0125427im 0.365674+0.0im]  \n",
       " Complex{Float64}[0.703821+0.0im 0.110556+0.0706523im; 0.110556-0.0706523im 0.296179+0.0im]    \n",
       " Complex{Float64}[0.730921+0.0im 0.119819+0.128508im; 0.119819-0.128508im 0.269079+0.0im]      \n",
       " Complex{Float64}[0.662857+0.0im 0.0747031+0.134816im; 0.0747031-0.134816im 0.337143+0.0im]    \n",
       " Complex{Float64}[0.539372+0.0im 0.0163828+0.0950172im; 0.0163828-0.0950172im 0.460628+0.0im]  \n",
       " Complex{Float64}[0.441391+0.0im -0.0250369+0.0455307im; -0.0250369-0.0455307im 0.558609+0.0im]\n",
       " Complex{Float64}[0.398002+0.0im -0.0526026+0.0242694im; -0.0526026-0.0242694im 0.601998+0.0im]\n",
       " ⋮                                                                                             \n",
       " Complex{Float64}[0.496753+0.0im -0.0308163+0.0949036im; -0.0308163-0.0949036im 0.503247+0.0im]\n",
       " Complex{Float64}[0.582271+0.0im -0.100485+0.0269023im; -0.100485-0.0269023im 0.417729+0.0im]  \n",
       " Complex{Float64}[0.643991+0.0im -0.058163-0.0310572im; -0.058163+0.0310572im 0.356009+0.0im]  \n",
       " Complex{Float64}[0.6211+0.0im 0.0641524-0.0168398im; 0.0641524+0.0168398im 0.3789+0.0im]      \n",
       " Complex{Float64}[0.540695+0.0im 0.122112+0.0184197im; 0.122112-0.0184197im 0.459305+0.0im]    \n",
       " Complex{Float64}[0.486384+0.0im 0.077683-0.00917527im; 0.077683+0.00917527im 0.513616+0.0im]  \n",
       " Complex{Float64}[0.5043+0.0im 0.0476525-0.0837694im; 0.0476525+0.0837694im 0.4957+0.0im]      \n",
       " Complex{Float64}[0.575893+0.0im 0.110926-0.120139im; 0.110926+0.120139im 0.424107+0.0im]      \n",
       " Complex{Float64}[0.65564+0.0im 0.196749-0.0905055im; 0.196749+0.0905055im 0.34436+0.0im]      \n",
       " Complex{Float64}[0.703627+0.0im 0.208228-0.0353478im; 0.208228+0.0353478im 0.296373+0.0im]    \n",
       " Complex{Float64}[0.703058+0.0im 0.151586+0.0222134im; 0.151586-0.0222134im 0.296942+0.0im]    \n",
       " Complex{Float64}[0.671406+0.0im 0.0928+0.0878847im; 0.0928-0.0878847im 0.328594+0.0im]        "
      ]
     },
     "execution_count": 47,
     "metadata": {},
     "output_type": "execute_result"
    }
   ],
   "source": [
    "partial=[]\n",
    "for i in 1:length(rho)\n",
    "trace=partial_trace_pure_bipartite_mat(rho[i],2,1)\n",
    "push!(partial,trace)\n",
    "end\n",
    "return partial"
   ]
  },
  {
   "cell_type": "code",
   "execution_count": 48,
   "metadata": {},
   "outputs": [
    {
     "data": {
      "text/plain": [
       "1001-element Array{Any,1}:\n",
       " Complex{Float64}[1.0+0.0im 0.0+0.0im; 0.0+0.0im 0.0+0.0im]                                    \n",
       " Complex{Float64}[0.906794+0.0im 0.0273438+0.0567381im; 0.0273438-0.0567381im 0.00644969+0.0im]\n",
       " Complex{Float64}[0.713016+0.0im 0.0649804+0.0629304im; 0.0649804-0.0629304im 0.033929+0.0im]  \n",
       " Complex{Float64}[0.533097+0.0im 0.0559447+0.00320251im; 0.0559447-0.00320251im 0.077134+0.0im]\n",
       " Complex{Float64}[0.417981+0.0im 0.0163506-0.0645272im; 0.0163506+0.0645272im 0.131824+0.0im]  \n",
       " Complex{Float64}[0.371169+0.0im 0.00783568-0.0724457im; 0.00783568+0.0724457im 0.161443+0.0im]\n",
       " Complex{Float64}[0.405427+0.0im 0.0538512-0.0125427im; 0.0538512+0.0125427im 0.136775+0.0im]  \n",
       " Complex{Float64}[0.512579+0.0im 0.110556+0.0706523im; 0.110556-0.0706523im 0.104936+0.0im]    \n",
       " Complex{Float64}[0.565116+0.0im 0.119819+0.128508im; 0.119819-0.128508im 0.103275+0.0im]      \n",
       " Complex{Float64}[0.463136+0.0im 0.0747031+0.134816im; 0.0747031-0.134816im 0.137421+0.0im]    \n",
       " Complex{Float64}[0.300218+0.0im 0.0163828+0.0950172im; 0.0163828-0.0950172im 0.221475+0.0im]  \n",
       " Complex{Float64}[0.197526+0.0im -0.0250369+0.0455307im; -0.0250369-0.0455307im 0.314744+0.0im]\n",
       " Complex{Float64}[0.161762+0.0im -0.0526026+0.0242694im; -0.0526026-0.0242694im 0.365758+0.0im]\n",
       " ⋮                                                                                             \n",
       " Complex{Float64}[0.25672+0.0im -0.0308163+0.0949036im; -0.0308163-0.0949036im 0.263214+0.0im] \n",
       " Complex{Float64}[0.34986+0.0im -0.100485+0.0269023im; -0.100485-0.0269023im 0.185319+0.0im]   \n",
       " Complex{Float64}[0.419072+0.0im -0.058163-0.0310572im; -0.058163+0.0310572im 0.13109+0.0im]   \n",
       " Complex{Float64}[0.390165+0.0im 0.0641524-0.0168398im; 0.0641524+0.0168398im 0.147964+0.0im]  \n",
       " Complex{Float64}[0.307601+0.0im 0.122112+0.0184197im; 0.122112-0.0184197im 0.226212+0.0im]    \n",
       " Complex{Float64}[0.242688+0.0im 0.077683-0.00917527im; 0.077683+0.00917527im 0.269921+0.0im]  \n",
       " Complex{Float64}[0.263607+0.0im 0.0476525-0.0837694im; 0.0476525+0.0837694im 0.255007+0.0im]  \n",
       " Complex{Float64}[0.35839+0.0im 0.110926-0.120139im; 0.110926+0.120139im 0.206605+0.0im]       \n",
       " Complex{Float64}[0.476765+0.0im 0.196749-0.0905055im; 0.196749+0.0905055im 0.165485+0.0im]    \n",
       " Complex{Float64}[0.5397+0.0im 0.208228-0.0353478im; 0.208228+0.0353478im 0.132445+0.0im]      \n",
       " Complex{Float64}[0.517762+0.0im 0.151586+0.0222134im; 0.151586-0.0222134im 0.111646+0.0im]    \n",
       " Complex{Float64}[0.467121+0.0im 0.0928+0.0878847im; 0.0928-0.0878847im 0.12431+0.0im]         "
      ]
     },
     "execution_count": 48,
     "metadata": {},
     "output_type": "execute_result"
    }
   ],
   "source": [
    "densit2=[]\n",
    "for i in 1:length(rho)\n",
    "densit = (partial[i])*(partial[i])\n",
    "    push!(densit2,densit)\n",
    "end\n",
    "return densit2"
   ]
  },
  {
   "cell_type": "code",
   "execution_count": 49,
   "metadata": {},
   "outputs": [
    {
     "data": {
      "text/plain": [
       "2×2 Array{Complex{Float64},2}:\n",
       "  0.533097+0.0im         0.0559447+0.00320251im\n",
       " 0.0559447-0.00320251im   0.077134+0.0im       "
      ]
     },
     "execution_count": 49,
     "metadata": {},
     "output_type": "execute_result"
    }
   ],
   "source": [
    "densit2[4]"
   ]
  },
  {
   "cell_type": "code",
   "execution_count": 50,
   "metadata": {},
   "outputs": [
    {
     "data": {
      "text/plain": [
       "1001-element Array{Any,1}:\n",
       "      1.0+0.0im\n",
       " 0.913244+0.0im\n",
       " 0.746945+0.0im\n",
       " 0.610231+0.0im\n",
       " 0.549805+0.0im\n",
       " 0.532612+0.0im\n",
       " 0.542202+0.0im\n",
       " 0.617515+0.0im\n",
       " 0.668391+0.0im\n",
       " 0.600557+0.0im\n",
       " 0.521694+0.0im\n",
       "  0.51227+0.0im\n",
       " 0.527519+0.0im\n",
       "         ⋮     \n",
       " 0.519934+0.0im\n",
       " 0.535179+0.0im\n",
       " 0.550162+0.0im\n",
       " 0.538129+0.0im\n",
       " 0.533813+0.0im\n",
       " 0.512608+0.0im\n",
       " 0.518613+0.0im\n",
       " 0.564995+0.0im\n",
       " 0.642251+0.0im\n",
       " 0.672145+0.0im\n",
       " 0.629409+0.0im\n",
       " 0.591431+0.0im"
      ]
     },
     "execution_count": 50,
     "metadata": {},
     "output_type": "execute_result"
    }
   ],
   "source": [
    "traza=[]\n",
    "for i in 1:length(densit2)\n",
    "traz=trace(densit2[i])\n",
    "    push!(traza,traz)\n",
    "end\n",
    "return traza"
   ]
  },
  {
   "cell_type": "code",
   "execution_count": 51,
   "metadata": {},
   "outputs": [
    {
     "data": {
      "image/png": "[encoded data removed]",
      "text/plain": [
       "PyPlot.Figure(PyObject <matplotlib.figure.Figure object at 0x7fcc23eee6d0>)"
      ]
     },
     "metadata": {},
     "output_type": "display_data"
    },
    {
     "data": {
      "text/plain": [
       "1-element Array{PyCall.PyObject,1}:\n",
       " PyObject <matplotlib.lines.Line2D object at 0x7fcc23d97410>"
      ]
     },
     "execution_count": 51,
     "metadata": {},
     "output_type": "execute_result"
    }
   ],
   "source": [
    "using PyPlot\n",
    "plot(t,traza)"
   ]
  },
  {
   "cell_type": "code",
   "execution_count": null,
   "metadata": {},
   "outputs": [],
   "source": []
  }
 ],
 "metadata": {
  "kernelspec": {
   "display_name": "Julia 0.6.0",
   "language": "julia",
   "name": "julia-0.6"
  },
  "language_info": {
   "file_extension": ".jl",
   "mimetype": "application/julia",
   "name": "julia",
   "version": "0.6.0"
  }
 },
 "nbformat": 4,
 "nbformat_minor": 2
}
