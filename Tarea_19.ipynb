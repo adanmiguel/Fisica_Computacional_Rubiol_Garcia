{
 "cells": [
  {
   "cell_type": "markdown",
   "metadata": {},
   "source": [
    "__Ejercicio1__: Escriba la forma del operador laplaciano utilizando diferencias finitas simétricas. Es decir, discretice: $\\nabla^2=\\frac{\\partial^2 f}{\\partial x^2}+\\frac{\\partial^2 f}{\\partial y^2}+\\frac{\\partial^2 f}{\\partial z^2}$"
   ]
  },
  {
   "cell_type": "markdown",
   "metadata": {},
   "source": [
    "La segunda derivada parcial de $ f$ respecto a una variable se expresa de la siguiente forma \n",
    "        $$ \\frac{d^2f}{dx^2}=\\frac{f(x+h,y,z)-2f(x,y,z)+f(x-h,y,z)}{h^2}   ... (1) $$\n",
    "\n",
    "Por lo cual, el operador laplaciano se puede escribir como\n",
    "        \n",
    "$$\\nabla^2f=\\frac{\\partial^2 f}{\\partial x^2}+\\frac{\\partial^2 f}{\\partial y^2}+\\frac{\\partial^2 f}{\\partial z^2}=\\frac{f(x+h,y,z)+f(x-h,y,z)+f(x,y+h,z)+f(x,y-h,z)+f(x,y,z+h)+f(x,y,z-h)-6f(x,y,z)}{h^{2}}$$"
   ]
  },
  {
   "cell_type": "code",
   "execution_count": 36,
   "metadata": {},
   "outputs": [
    {
     "data": {
      "text/plain": [
       "laplaciano (generic function with 2 methods)"
      ]
     },
     "execution_count": 36,
     "metadata": {},
     "output_type": "execute_result"
    }
   ],
   "source": [
    "function laplaciano(f,x,y,z,h)\n",
    "    \n",
    "    lap = (f(x + h,y,z) + f(x - h,y,z) + f(x,y + h,z) + f(x,y - h,z) + f(x,y,z + h) + f(x,y,z - h) -6*f(x,y,z))/h^2\n",
    "    \n",
    "    return lap\n",
    "end"
   ]
  },
  {
   "cell_type": "code",
   "execution_count": 37,
   "metadata": {},
   "outputs": [
    {
     "data": {
      "text/plain": [
       "F (generic function with 1 method)"
      ]
     },
     "execution_count": 37,
     "metadata": {},
     "output_type": "execute_result"
    }
   ],
   "source": [
    "F(x,y,z) = x^2 + y^2 + z^2"
   ]
  },
  {
   "cell_type": "code",
   "execution_count": 38,
   "metadata": {},
   "outputs": [
    {
     "data": {
      "text/plain": [
       "6.011191544530448"
      ]
     },
     "execution_count": 38,
     "metadata": {},
     "output_type": "execute_result"
    }
   ],
   "source": [
    "laplaciano(F,1,2,3,1e-6) #Se obtiene el laplaciano de la función anterior para un caso particular con \n",
    "#una h dada."
   ]
  },
  {
   "cell_type": "markdown",
   "metadata": {},
   "source": [
    "__Ejercicio 2 (condiciones a la frontera de Dirichlet)__. Discretice la ecuación \n",
    "$$ \\frac{d^2f}{dx^2}, $$\n",
    "en el intervalo $[0,1]$, y aplicando el operador laplaciano discretizado obtenga el sistema de ecuaciones algebraicas lineales correspondientes al problema de _Dirichlet_:\n",
    "$f(0) = a$ y $f(1) = b$ dividiendo el intervalo $[0,1]$ en $5$ puntos separados por $h$.\n",
    "\n",
    "* Escriba el sistema lineal de ecuaciones que surge, usando $\\LaTeX$ en el _notebook_ de la tarea que sigue."
   ]
  },
  {
   "cell_type": "markdown",
   "metadata": {},
   "source": [
    "Por condiciones de frontera de Dirichlet, se tiene \n",
    "\n",
    "$$ f_{1} = a$$\n",
    "\n",
    "$$ f_{5} = b$$\n",
    "\n",
    "Por otro lado, de la expresión (1) se obtienen \n",
    "\n",
    "   $$f'' = f_{1}-2f_{2}+f_{3}=0$$\n",
    "   $$f'' = f_{2}-2f_{3}+f_{4}=0$$\n",
    "   $$f'' = f_{3}-2f_[{4}+f_{5}=0$$ \n",
    "   \n",
    "De esta manera se obtiene el sistema de cinco ecuaciones y cinco incógnitas\n",
    "\n",
    "   $$ f_{1} = a$$\n",
    "   $$f_{1}-2f_{2}+f_{3}=0$$\n",
    "   $$f_{2}-2f_{3}+f_{4}=0$$\n",
    "   $$f_{3}-2f_{4}+f_{5}=0$$ \n",
    "   $$ f_{5} = b$$\n",
    "\n",
    "En forma matricial esto es\n",
    "\n",
    "$\n",
    "\\left(\n",
    "\\begin{array}{a}\n",
    " 1 & 0 & 0 & 0 & 0 \\\\\n",
    " 1 & -2 & 1 & 0 & 0 \\\\\n",
    " 0 & 1 & -2 & 1 & 0 \\\\\n",
    " 0 & 0 & 1 & -2 & 1 \\\\\n",
    " 0 & 0 & 0 & 0 & 1 \\\\\n",
    "\\end{array}\n",
    "\\right)\n",
    "$\n",
    "$\n",
    "\\left(\n",
    "\\begin{array}{x}\n",
    "     f_{1}\\\\\n",
    "    f_{2}\\\\\n",
    "    f_{3}\\\\\n",
    "    f_{4}\\\\\n",
    "    f_{5}\\\\\n",
    "\\end{array}\n",
    "\\right)\n",
    "$\n",
    "=\n",
    "$\n",
    "\\left(\n",
    "\\begin{array}{b}\n",
    "    ah\\\\\n",
    "    0\\\\\n",
    "    0\\\\\n",
    "    0\\\\\n",
    "    bh\\\\\n",
    "\\end{array}\n",
    "\\right)\n",
    "$"
   ]
  },
  {
   "cell_type": "markdown",
   "metadata": {},
   "source": [
    "__Ejercicio 3 (condiciones a la frontera de Neumann)__. Hacer lo mismo para condiciones de _Neumann_, es decir, fijando en los extremos el valor de la primera derivada de la función. Para esto utilice la derivada _hacia adeltante_ en las orillas, es decir, si $f'(0)=a$ y $f'(1)=b$, entonces $(f_1-f_0)/h=a$, etc. No olvide que debe resultar un sistema de ecuación cuya dimensión sea el número de incognitas.\n",
    "\n",
    "* Escriba el sistema lineal de ecuaciones que surge, usando $\\LaTeX$ en el _notebook_ de la tarea que sigue."
   ]
  },
  {
   "cell_type": "markdown",
   "metadata": {},
   "source": [
    "Por condiciones de frontera de Neumann, mediante la derivada hacia adelante obtenemos\n",
    "\n",
    "$$ f'_{1} = {f_{2}-f_{1} \\over h} = a$$\n",
    "\n",
    "$$ f'_{5} = {f_{5}-f_{4} \\over h} = b$$\n",
    "\n",
    "Por otro lado, de la expresión (1) se obtienen \n",
    "\n",
    "   $$f'' = f_{1}-2f_{2}+f_{3}=0$$\n",
    "   $$f'' = f_{2}-2f_{3}+f_{4}=0$$\n",
    "   $$f'' = f_{3}-2f_[{4}+f_{5}=0$$ \n",
    "   \n",
    "De esta manera se obtiene el sistema de cinco ecuaciones y cinco incógnitas\n",
    "\n",
    "   $${f_{2}-f_{1} \\over h} = a$$\n",
    "   $$f_{1}-2f_{2}+f_{3}=0$$\n",
    "   $$f_{2}-2f_{3}+f_{4}=0$$\n",
    "   $$f_{3}-2f_{4}+f_{5}=0$$ \n",
    "   $${f_{5}-f_{4} \\over h} = b$$\n",
    "\n",
    "En forma matricial esto es\n",
    "\n",
    "$\n",
    "\\left(\n",
    "\\begin{array}{a}\n",
    " -1 & 1 & 0 & 0 & 0 \\\\\n",
    " 1 & -2 & 1 & 0 & 0 \\\\\n",
    " 0 & 1 & -2 & 1 & 0 \\\\\n",
    " 0 & 0 & 1 & -2 & 1 \\\\\n",
    " 0 & 0 & 0 & -1 & 1 \\\\\n",
    "\\end{array}\n",
    "\\right)\n",
    "$\n",
    "$\n",
    "\\left(\n",
    "\\begin{array}{x}\n",
    "     f_{1}\\\\\n",
    "    f_{2}\\\\\n",
    "    f_{3}\\\\\n",
    "    f_{4}\\\\\n",
    "    f_{5}\\\\\n",
    "\\end{array}\n",
    "\\right)\n",
    "$\n",
    "=\n",
    "$\n",
    "\\left(\n",
    "\\begin{array}{b}\n",
    "    ah\\\\\n",
    "    0\\\\\n",
    "    0\\\\\n",
    "    0\\\\\n",
    "    bh\\\\\n",
    "\\end{array}\n",
    "\\right)\n",
    "$"
   ]
  },
  {
   "cell_type": "markdown",
   "metadata": {},
   "source": [
    "__Ejercicio 4 (indexación)__. `Julia` es más eficiente\n",
    "si se utiliza un único índice para acceder a los elementos\n",
    "de una matriz, además que puede simplificar algunos problemas. Escribe una función $\\phi$ que traduzca un par de\n",
    "índices $i,j$ a un único índice $k$, es decir:\n",
    "$$\\phi: (i,j) \\mapsto k.$$\n",
    "También encuentren $\\phi^{-1}$. Note que $\\phi$ deberá depender de las dimensiones del arreglo, por lo menos de una de ellas."
   ]
  },
  {
   "cell_type": "markdown",
   "metadata": {},
   "source": [
    "Si tenemos una matriz $A_{mn}$, com m renglones y n columnas \n",
    "El arreglo puede ser acomodado de manera que la matriz \n",
    "\n",
    "$$A= \n",
    "\\left(\n",
    "\\begin{array}{a}\n",
    " a_{11}&a_{12}&a_{13}&\\\\\n",
    " a_{21}&a_{22}&a_{23}& \\\\\n",
    " a_{31}&a_{32}&a_{33}& \\\\\n",
    "\\end{array}\n",
    "\\right)\n",
    "$$\n",
    "\n",
    "Puede ser entendida como el arreglo $A=[a_{11},a_{21},a_{31},a_{12},a_{22},a_{32}.....]=[a_{1},a_{2},a_{3},..]$\n",
    "\n",
    "\n",
    "$\\phi=(j-1)*m + i$ \n",
    "\n",
    "\n",
    "Como ejemplo para la matriz A de 3x3  $a_{32}$ es el elemento $a_{6}$\n",
    "ya que  $k=\\phi(3,2)=(2-1)*3 +3=6$\n",
    "\n",
    "Aquí \n",
    "\n",
    "    $\\phi=(j-1)*m + i$ \n",
    "Como ejemplo para la matriz A de 3x3  $a_{32}$ es el elemento $a_{6}$\n",
    "ya que  $k=\\phi(3,2)=(2-1)*3 +3=6$\n",
    "\n",
    "Y la función inversa es:\n",
    "                            $$j=\\phi^{-1}(k)=1+ mod(k-1,n)$$\n",
    "                          $$i=\\phi^{-1}(k)=1+ \\frac{k-j}{n}$$\n",
    "\n",
    "o puede ser entendida como el arreglo $A=[a_{11},a_{12},a_{13},a_{21},a_{22},a_{23}.....]=[a_{1},a_{2},a_{3},..]$\n",
    "\n",
    "en cuyo caso\n",
    "$\\phi=(i-1)*n + j$ \n",
    "Como ejemplo para la matriz A de 3x3  $a_{21}$ es el elemento $a_{4}$\n",
    "ya que  $k=\\phi(2,1)=(2-1)*3 +1=4$"
   ]
  },
  {
   "cell_type": "code",
   "execution_count": null,
   "metadata": {},
   "outputs": [],
   "source": []
  }
 ],
 "metadata": {
  "kernelspec": {
   "display_name": "Julia 0.4.7",
   "language": "julia",
   "name": "julia-0.4"
  },
  "language_info": {
   "file_extension": ".jl",
   "mimetype": "application/julia",
   "name": "julia",
   "version": "0.4.7"
  }
 },
 "nbformat": 4,
 "nbformat_minor": 2
}
