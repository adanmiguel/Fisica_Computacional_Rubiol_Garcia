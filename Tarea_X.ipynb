{
 "cells": [
  {
   "cell_type": "code",
   "execution_count": 1,
   "metadata": {
    "collapsed": true
   },
   "outputs": [],
   "source": [
    "using SymPy"
   ]
  },
  {
   "cell_type": "markdown",
   "metadata": {},
   "source": [
    "# Tarea 10 Adán Rubiol"
   ]
  },
  {
   "cell_type": "code",
   "execution_count": 8,
   "metadata": {
    "collapsed": false
   },
   "outputs": [],
   "source": [
    "function coeff_Taylorarcsen(i)\n",
    "x=Sym(\"x\");#se hace una función que calcula los coeficientes de la expansión de Taylor del operador derivada simétrica\n",
    "h=Sym(\"h\");\n",
    "N(subs(diff(asinh(x/2),x,i)/factorial(Float64(i)),x=>0))\n",
    "end;\n",
    "\n",
    "function coeff_Taylorarcsenrational(i)\n",
    "    x=Sym(\"x\");\n",
    "    h=Sym(\"h\");#se calcula los coeficientes racionales de la serie de potencias\n",
    "    subs(diff(asinh(x/2),x,i)/factorial(i),x=>0)\n",
    "end;\n",
    "\n",
    "function finite_difference_symetric(f) #Ahora se aplica el operador derivada simétrica\n",
    "    return (x,h)->(f(x+h,h)-f(x-h,h))\n",
    "end;"
   ]
  },
  {
   "cell_type": "code",
   "execution_count": 9,
   "metadata": {
    "collapsed": false
   },
   "outputs": [],
   "source": [
    "g=SymFunction(\"g\");#hacemos g función simbólica"
   ]
  },
  {
   "cell_type": "code",
   "execution_count": 10,
   "metadata": {
    "collapsed": false
   },
   "outputs": [
    {
     "data": {
      "text/plain": [
       "rr (generic function with 1 method)"
      ]
     },
     "execution_count": 10,
     "metadata": {},
     "output_type": "execute_result"
    }
   ],
   "source": [
    "rr(x,h)=g(x)#creamos una función que considera a x y h como como variables de g"
   ]
  },
  {
   "cell_type": "code",
   "execution_count": 11,
   "metadata": {
    "collapsed": false
   },
   "outputs": [
    {
     "data": {
      "text/latex": [
       "$$g{\\left (x \\right )}$$"
      ],
      "text/plain": [
       "g(x)"
      ]
     },
     "execution_count": 11,
     "metadata": {},
     "output_type": "execute_result"
    }
   ],
   "source": [
    "rr(Sym(\"x\"),Sym(\"h\"))#declaramos a x y h variables simbólicas de g"
   ]
  },
  {
   "cell_type": "code",
   "execution_count": 12,
   "metadata": {
    "collapsed": false
   },
   "outputs": [
    {
     "data": {
      "text/latex": [
       "$$- g{\\left (- h + x \\right )} + g{\\left (h + x \\right )}$$"
      ],
      "text/plain": [
       "-g(-h + x) + g(h + x)"
      ]
     },
     "execution_count": 12,
     "metadata": {},
     "output_type": "execute_result"
    }
   ],
   "source": [
    "gg=finite_difference_symetric(rr);\n",
    "gg(Sym(\"x\"),Sym(\"h\")) #se aplica el operador derivada simétrica"
   ]
  },
  {
   "cell_type": "code",
   "execution_count": 13,
   "metadata": {
    "collapsed": false
   },
   "outputs": [
    {
     "data": {
      "text/latex": [
       "$$- 2 g{\\left (x \\right )} + g{\\left (- 2 h + x \\right )} + g{\\left (2 h + x \\right )}$$"
      ],
      "text/plain": [
       "-2*g(x) + g(-2*h + x) + g(2*h + x)"
      ]
     },
     "execution_count": 13,
     "metadata": {},
     "output_type": "execute_result"
    }
   ],
   "source": [
    "gg=finite_difference_symetric(gg);\n",
    "gg(Sym(\"x\"),Sym(\"h\"))#se aplica el operador derivada simétrica a la expresión anterior"
   ]
  },
  {
   "cell_type": "code",
   "execution_count": 14,
   "metadata": {
    "collapsed": false
   },
   "outputs": [
    {
     "data": {
      "text/latex": [
       "$$- g{\\left (- 3 h + x \\right )} + 3 g{\\left (- h + x \\right )} - 3 g{\\left (h + x \\right )} + g{\\left (3 h + x \\right )}$$"
      ],
      "text/plain": [
       "-g(-3*h + x) + 3*g(-h + x) - 3*g(h + x) + g(3*h + x)"
      ]
     },
     "execution_count": 14,
     "metadata": {},
     "output_type": "execute_result"
    }
   ],
   "source": [
    "gg=finite_difference_symetric(gg);\n",
    "gg(Sym(\"x\"),Sym(\"h\"))"
   ]
  },
  {
   "cell_type": "code",
   "execution_count": 15,
   "metadata": {
    "collapsed": false
   },
   "outputs": [],
   "source": [
    "function Derivative_order(f,x,h,order)#creamos una función que tiene como entradas , la función, x, h y el orden\n",
    "    g(x,h)=f(x)\n",
    "    der=0\n",
    "    for i in range(1,order)#en este for se aplica cada término del operador derivada simétrica a la función g\n",
    "        g=finite_difference_symetric(g)\n",
    "        der=der+coeff_Taylorarcsen(i)*g(x,h)\n",
    "    end\n",
    "    der/h\n",
    "end;\n",
    "function Derivative_order_rational_coefficients(f,x,h,order)#creamos una función que toma de entradas la función f, x, h y el orden\n",
    "    g(x,h)=f(x)\n",
    "    der=0\n",
    "    for i in range(1,order)#para este ciclo for aplicamos los coeficientes racionales de la expansión de Taylor a la función g\n",
    "        g=finite_difference_symetric(g)\n",
    "        der=der+coeff_Taylorarcsenrational(i)*g(x,h)\n",
    "    end\n",
    "    der/h #se regresa el valor de la derivada\n",
    "end;"
   ]
  },
  {
   "cell_type": "code",
   "execution_count": 16,
   "metadata": {
    "collapsed": false
   },
   "outputs": [
    {
     "data": {
      "text/plain": [
       "0.5440211108893371"
      ]
     },
     "execution_count": 16,
     "metadata": {},
     "output_type": "execute_result"
    }
   ],
   "source": [
    "Derivative_order(cos,10.0,0.01,6)#calculamos la derivada de coseno de 10, h=0.01 y de orden 6"
   ]
  },
  {
   "cell_type": "code",
   "execution_count": 17,
   "metadata": {
    "collapsed": false
   },
   "outputs": [
    {
     "data": {
      "text/plain": [
       "0.5440211108893698"
      ]
     },
     "execution_count": 17,
     "metadata": {},
     "output_type": "execute_result"
    }
   ],
   "source": [
    "-sin(10.0)#se compara con el valor verdadero de la derivada"
   ]
  },
  {
   "cell_type": "code",
   "execution_count": 18,
   "metadata": {
    "collapsed": false
   },
   "outputs": [
    {
     "data": {
      "text/latex": [
       "$$\\frac{1}{h} \\left(- \\frac{1}{2} f{\\left (- h + x \\right )} + \\frac{1}{2} f{\\left (h + x \\right )}\\right)$$"
      ],
      "text/plain": [
       "  f(-h + x)   f(h + x)\n",
       "- --------- + --------\n",
       "      2          2    \n",
       "----------------------\n",
       "          h           "
      ]
     },
     "execution_count": 18,
     "metadata": {},
     "output_type": "execute_result"
    }
   ],
   "source": [
    "aprox=Derivative_order_rational_coefficients(SymFunction(\"f\"),Sym(\"x\"),Sym(\"h\"),2)#se obtiene la estructura del operador derivada simétrica"
   ]
  },
  {
   "cell_type": "code",
   "execution_count": 19,
   "metadata": {
    "collapsed": false
   },
   "outputs": [
    {
     "data": {
      "text/latex": [
       "$$\\left. \\frac{d}{d \\xi_{1}} f{\\left (\\xi_{1} \\right )} \\right|_{\\substack{ \\xi_{1}=x }} + \\frac{h^{2}}{6} \\left. \\frac{d^{3}}{d \\xi_{1}^{3}}  f{\\left (\\xi_{1} \\right )} \\right|_{\\substack{ \\xi_{1}=x }} + \\frac{h^{4}}{120} \\left. \\frac{d^{5}}{d \\xi_{1}^{5}}  f{\\left (\\xi_{1} \\right )} \\right|_{\\substack{ \\xi_{1}=x }} + \\mathcal{O}\\left(h^{5}\\right)$$"
      ],
      "text/plain": [
       "                             /   3           \\|            /   5           \\| \n",
       "                           2 |  d            ||          4 |  d            || \n",
       "                          h *|------(f(xi_1))||         h *|------(f(xi_1))|| \n",
       "                             |     3         ||            |     5         || \n",
       "/  d           \\|            \\dxi_1          /|xi_1=x      \\dxi_1          /|x\n",
       "|-----(f(xi_1))||       + --------------------------- + ----------------------\n",
       "\\dxi_1         /|xi_1=x                6                            120       \n",
       "\n",
       "             \n",
       "             \n",
       "             \n",
       "             \n",
       "i_1=x    / 5\\\n",
       "----- + O\\h /\n",
       "             "
      ]
     },
     "execution_count": 19,
     "metadata": {},
     "output_type": "execute_result"
    }
   ],
   "source": [
    "series(aprox,Sym(\"h\"),0,5)#obtenemos la forma explicita del operador en una función simbólica"
   ]
  },
  {
   "cell_type": "code",
   "execution_count": 20,
   "metadata": {
    "collapsed": false
   },
   "outputs": [
    {
     "data": {
      "text/latex": [
       "$$\\frac{1}{h} \\left(- \\frac{3}{1280} f{\\left (- 5 h + x \\right )} + \\frac{25}{768} f{\\left (- 3 h + x \\right )} - \\frac{75}{128} f{\\left (- h + x \\right )} + \\frac{75}{128} f{\\left (h + x \\right )} - \\frac{25}{768} f{\\left (3 h + x \\right )} + \\frac{3}{1280} f{\\left (5 h + x \\right )}\\right)$$"
      ],
      "text/plain": [
       "  3*f(-5*h + x)   25*f(-3*h + x)   75*f(-h + x)   75*f(h + x)   25*f(3*h + x) \n",
       "- ------------- + -------------- - ------------ + ----------- - ------------- \n",
       "       1280            768             128            128            768      \n",
       "------------------------------------------------------------------------------\n",
       "                                             h                                \n",
       "\n",
       "  3*f(5*h + x)\n",
       "+ ------------\n",
       "      1280    \n",
       "--------------\n",
       "              "
      ]
     },
     "execution_count": 20,
     "metadata": {},
     "output_type": "execute_result"
    }
   ],
   "source": [
    "aprox=Derivative_order_rational_coefficients(SymFunction(\"f\"),Sym(\"x\"),Sym(\"h\"),5)#se obtinene la forma explicita del operador en las variables simbólicas"
   ]
  },
  {
   "cell_type": "code",
   "execution_count": 21,
   "metadata": {
    "collapsed": false
   },
   "outputs": [
    {
     "data": {
      "text/latex": [
       "$$\\left. \\frac{d}{d \\xi_{1}} f{\\left (\\xi_{1} \\right )} \\right|_{\\substack{ \\xi_{1}=x }} + \\mathcal{O}\\left(h^{6}\\right)$$"
      ],
      "text/plain": [
       "/  d           \\|          / 6\\\n",
       "|-----(f(xi_1))||       + O\\h /\n",
       "\\dxi_1         /|xi_1=x        "
      ]
     },
     "execution_count": 21,
     "metadata": {},
     "output_type": "execute_result"
    }
   ],
   "source": [
    "series(aprox,Sym(\"h\"),0,6)#se obtiene la serie de potencias a orden 6"
   ]
  }
 ],
 "metadata": {
  "kernelspec": {
   "display_name": "Julia 0.6.0",
   "language": "julia",
   "name": "julia-0.6"
  },
  "language_info": {
   "file_extension": ".jl",
   "mimetype": "application/julia",
   "name": "julia",
   "version": "0.6.0"
  }
 },
 "nbformat": 4,
 "nbformat_minor": 2
}
