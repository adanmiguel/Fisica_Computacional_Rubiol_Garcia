{
 "cells": [
  {
   "cell_type": "markdown",
   "metadata": {
    "collapsed": true
   },
   "source": [
    "# Tarea 6 Adán Rubiol"
   ]
  },
  {
   "cell_type": "code",
   "execution_count": 8,
   "metadata": {
    "collapsed": true
   },
   "outputs": [],
   "source": [
    "using SymPy"
   ]
  },
  {
   "cell_type": "code",
   "execution_count": 9,
   "metadata": {
    "collapsed": false
   },
   "outputs": [
    {
     "data": {
      "text/latex": [
       "$$f$$"
      ],
      "text/plain": [
       "f"
      ]
     },
     "execution_count": 9,
     "metadata": {},
     "output_type": "execute_result"
    }
   ],
   "source": [
    "f=symbols(\"f\") #Se declara la variable f como simbólica"
   ]
  },
  {
   "cell_type": "code",
   "execution_count": 10,
   "metadata": {
    "collapsed": false
   },
   "outputs": [
    {
     "data": {
      "text/plain": [
       "trapecio (generic function with 1 method)"
      ]
     },
     "execution_count": 10,
     "metadata": {},
     "output_type": "execute_result"
    }
   ],
   "source": [
    "function trapecio(f,a,b,n) #Creamos una función que toma como entrada la función f, el intervalo (a,b) y la cantidad de diferencias finitas n\n",
    "    x=a # Se toma como primer valor la variable a\n",
    "    I=0 # Iniciamos  el valor de la integral en cero \n",
    "    dn=(b-a)/n # definimos el tamaño de la diferencia finita\n",
    "    while x<b #damos la condición de iteración hata valores menores que b\n",
    "        x=x+dn #iteramos en caca punto del intervalo\n",
    "        I += (b-a)*(f(x)+f(x+dn))/2n #Se define la iteración en la integral dada por el método del rectángulo\n",
    "    end\n",
    "   return I  #Se regresa el valor de la integral\n",
    "end"
   ]
  },
  {
   "cell_type": "code",
   "execution_count": 11,
   "metadata": {
    "collapsed": false
   },
   "outputs": [
    {
     "data": {
      "text/plain": [
       "0.9999984292022969"
      ]
     },
     "execution_count": 11,
     "metadata": {},
     "output_type": "execute_result"
    }
   ],
   "source": [
    "trapecio(cos,0,pi/2,1000000)  #Damos un ejemplo con la función coseno"
   ]
  },
  {
   "cell_type": "code",
   "execution_count": 12,
   "metadata": {
    "collapsed": false
   },
   "outputs": [
    {
     "data": {
      "text/plain": [
       "rectangulo (generic function with 1 method)"
      ]
     },
     "execution_count": 12,
     "metadata": {},
     "output_type": "execute_result"
    }
   ],
   "source": [
    "function rectangulo(f,a,b,n) #Creamos una función que toma como entrada la función f, el intervalo (a,b) y la cantidad de diferencias finitas n\n",
    "    x=a # Se toma como primer valor la variable a\n",
    "    I=0 # Iniciamos  el valor de la integral en cero \n",
    "    dn=(b-a)/n # definimos el tamaño de la diferencia finita\n",
    "    while x<b\n",
    "        x=x+dn\n",
    "        I += ((b-a)/n)*f(x+(dn/2))\n",
    "    end\n",
    "   return I # se regresa el valor de la integral\n",
    "end"
   ]
  },
  {
   "cell_type": "code",
   "execution_count": 13,
   "metadata": {
    "collapsed": false
   },
   "outputs": [
    {
     "data": {
      "text/plain": [
       "0.9999984292026093"
      ]
     },
     "execution_count": 13,
     "metadata": {},
     "output_type": "execute_result"
    }
   ],
   "source": [
    "rectangulo(cos,0,pi/2,1000000) #De igual manera elegimos el coseno como ejemplo, la integral es aproximada a 1"
   ]
  }
 ],
 "metadata": {
  "kernelspec": {
   "display_name": "Julia 0.6.0",
   "language": "julia",
   "name": "julia-0.6"
  },
  "language_info": {
   "file_extension": ".jl",
   "mimetype": "application/julia",
   "name": "julia",
   "version": "0.6.0"
  }
 },
 "nbformat": 4,
 "nbformat_minor": 2
}
