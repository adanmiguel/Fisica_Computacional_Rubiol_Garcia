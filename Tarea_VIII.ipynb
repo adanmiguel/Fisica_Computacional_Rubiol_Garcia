{
 "cells": [
  {
   "cell_type": "code",
   "execution_count": 11,
   "metadata": {
    "collapsed": true
   },
   "outputs": [],
   "source": [
    "using SymPy"
   ]
  },
  {
   "cell_type": "code",
   "execution_count": 12,
   "metadata": {
    "collapsed": false
   },
   "outputs": [
    {
     "data": {
      "text/plain": [
       "(f, x)"
      ]
     },
     "execution_count": 12,
     "metadata": {},
     "output_type": "execute_result"
    },
    {
     "name": "stderr",
     "output_type": "stream",
     "text": [
      "WARNING: Compat.UTF8String is deprecated, use String instead.\n",
      "  likely near /opt/julia_packages/.julia/v0.6/IJulia/src/kernel.jl:31\n",
      "WARNING: Compat.UTF8String is deprecated, use String instead.\n",
      "  likely near /opt/julia_packages/.julia/v0.6/IJulia/src/kernel.jl:31\n",
      "WARNING: Compat.UTF8String is deprecated, use String instead.\n",
      "  likely near /opt/julia_packages/.julia/v0.6/IJulia/src/kernel.jl:31\n",
      "in jprint at /home/juser/.julia/v0.6/SymPy/src/display.jl\n"
     ]
    }
   ],
   "source": [
    "f,x=symbols(\"f,x\") #se declaran las variables simbólicas a usar"
   ]
  },
  {
   "cell_type": "markdown",
   "metadata": {},
   "source": [
    "Ejercicio 1."
   ]
  },
  {
   "cell_type": "code",
   "execution_count": 21,
   "metadata": {
    "collapsed": false
   },
   "outputs": [
    {
     "data": {
      "text/plain": [
       "derivada_numerica (generic function with 1 method)"
      ]
     },
     "execution_count": 21,
     "metadata": {},
     "output_type": "execute_result"
    }
   ],
   "source": [
    "function derivada_numerica(f,x0,h)# creamos una función que toma como entradas la función , el punto y la diferencia finita\n",
    "df(x0)=(f(x0+h)-f(x0))/h\n",
    "return df(x0) #se regresa el valor aproximado de la derivada en el punto x0\n",
    "end"
   ]
  },
  {
   "cell_type": "code",
   "execution_count": 23,
   "metadata": {
    "collapsed": false
   },
   "outputs": [
    {
     "data": {
      "text/plain": [
       "g (generic function with 1 method)"
      ]
     },
     "execution_count": 23,
     "metadata": {},
     "output_type": "execute_result"
    }
   ],
   "source": [
    "g(x)=x^2 # se hace una prueba con esta función"
   ]
  },
  {
   "cell_type": "code",
   "execution_count": 25,
   "metadata": {
    "collapsed": false
   },
   "outputs": [
    {
     "data": {
      "text/plain": [
       "2.0009999999996975"
      ]
     },
     "execution_count": 25,
     "metadata": {},
     "output_type": "execute_result"
    }
   ],
   "source": [
    "derivada_numerica(g,1,0.001) #es bastante cercano al valor real"
   ]
  },
  {
   "cell_type": "code",
   "execution_count": 9,
   "metadata": {
    "collapsed": false
   },
   "outputs": [
    {
     "data": {
      "text/plain": [
       "-0.7074602166965427"
      ]
     },
     "execution_count": 9,
     "metadata": {},
     "output_type": "execute_result"
    }
   ],
   "source": [
    "derivada_numerica(cos,pi/4,0.001)"
   ]
  },
  {
   "cell_type": "markdown",
   "metadata": {},
   "source": [
    "Ejercicio 3."
   ]
  },
  {
   "cell_type": "markdown",
   "metadata": {},
   "source": [
    "Teniendo en mente la serie de Taylor para $f(x+h)$, ¿existe alguna forma de mejorar el cálculo de la derivada numérica?"
   ]
  },
  {
   "cell_type": "markdown",
   "metadata": {},
   "source": [
    "De las series de Taylor:\n",
    " $$ f(x+h)=f(x) + h\\frac{df}{dx}+\\frac{h^{2}}{2}\\frac{d^{2}f}{dx^{2}}+\\frac{h^{3}}{3} \\frac{d^{3}f}{dx^{3}}+ \\mathcal{O}\\left(h^{4}\\right)$$ \n",
    " $$ f(x-h)=f(x) - h\\frac{df}{dx}+\\frac{h^{2}}{2}\\frac{d^{2}f}{dx^{2}}-\\frac{h^{3}}{3} \\frac{d^{3}f}{dx^{3}}+ \\mathcal{O}\\left(h^{4}\\right)$$ "
   ]
  },
  {
   "cell_type": "markdown",
   "metadata": {},
   "source": [
    "Restamos la segunda se la primera serie se obtiene:\n",
    "$$f(x+h)-f(x-h)= 2h\\frac{df}{dx}+ \\frac{2h^{3}}{3} \\frac{d^{3}f}{dx^{3}}+ \\mathcal{O}\\left(h^{5}\\right)$$\n",
    "Si nos quedamos sólo con el primer término entonces:\n",
    "$$f(x+h)-f(x-h)= 2h\\frac{df}{dx}+ \\mathcal{O}\\left(h^{3}\\right)$$\n",
    "Porlo tanto\n",
    "$$\\frac{f(x+h)-f(x-h)}{2h}-\\frac{df}{dx}=\\mathcal{O}\\left(h^{2}\\right)$$\n",
    "Es decir si tomamos la derivada, eligiendo los puntos simétricos al punto de interes donde se desea obtener la derivada obtendremos un error mas pequeño."
   ]
  },
  {
   "cell_type": "markdown",
   "metadata": {
    "collapsed": true
   },
   "source": [
    "Ejercico 5.\n",
    "\n",
    "\n",
    "Demuestre que $\\Delta_h$ es un operador lineal:\n",
    "$$\\Delta_h=\\sum_{n=1}^{\\infty} \\frac{1}{n!}h^n\\left.\\frac{d^n}{d\\xi^n}\\right|_{\\substack{ \\xi=x }}$$\n",
    "Ya que se definio el operador $\\Delta_h$ como:\n",
    "$$\\Delta_h:f \\mapsto f(x+h)-f(x)=\\Delta f(x,h).$$"
   ]
  },
  {
   "cell_type": "markdown",
   "metadata": {},
   "source": [
    "Veamos que el operador abre las sumas y saca los escalares i.e:\n",
    "\n",
    "$$\\Delta_h(af(x)+bg(x))=af(x+h)+bg(x+h)-(af(x)+bg(x))$$\n",
    "$$=a(f(x+h)-f(x))+b(g(x+h)-g(x))$$\n",
    "$$=a\\Delta_hf(x)+b\\Delta_hg(x)$$"
   ]
  },
  {
   "cell_type": "markdown",
   "metadata": {},
   "source": [
    "Ejercicio 6.\n",
    "\n",
    "\n",
    "Ver como se relaciona el _operador derivada exacta_ con el _operador diferencia finita hacia  adelante_"
   ]
  },
  {
   "cell_type": "markdown",
   "metadata": {},
   "source": [
    "Consideremos la serie de Taylor:\n",
    "\n",
    "\n",
    "$$e^{\\eta}=\\sum_{n=0}^{\\infty} \\frac{\\eta^n}{n!}= \\sum_{n=1}^{\\infty}  \\frac{\\eta^n}{n!}+ 1$$\n",
    "\n",
    "\n",
    "$$\\Rightarrow e^{\\eta}-1=\\sum_{n=1}^{\\infty} \\frac{\\eta^n}{n!}$$\n",
    "\n",
    "Si elegimos  a $\\eta$ como:\n",
    "\n",
    "$$\\eta=\\left.h\\frac{d}{d\\xi}\\right|_{\\substack{ \\xi=x }}$$\n",
    "\n",
    "Entonces\n",
    "$$\\Delta_h=\\sum_{n=1}^{\\infty} \\frac{1}{n!}h^n\\left.\\frac{d^n}{d\\xi^n}\\right|_{\\substack{ \\xi=x }}=e^{\\eta}-1=\\phi\\left(h\\left.\\frac{d}{d\\xi}\\right|_{\\substack{ \\xi=x }}\\right)$$\n",
    "\n",
    "\n",
    "Con $\\Delta_h$ el operador de diferencia finita hacia adelante y $\\frac{d^n}{d\\xi^n}$ la derivada exacta."
   ]
  },
  {
   "cell_type": "markdown",
   "metadata": {},
   "source": [
    "Ejercicio 7.\n",
    "\n",
    "Explotar la relación $\\delta_h=\\Delta_h-\\Delta_{-h}$, donde $\\delta_h:f(x)\\mapsto f(x+h)-f(x-h)$, para encontrar cual es la función $\\theta$ que relaciona a $\\delta_h$ con el operador derivada exacta, es decir:\n",
    "$$\\delta_h=\\theta\\left(h\\left. \\frac{d}{d\\xi}\\right|_{\\xi=x}\\right).$$\n"
   ]
  },
  {
   "cell_type": "markdown",
   "metadata": {},
   "source": [
    "Definimos el operador:\n",
    "$$\\Delta_{-h}:f \\mapsto f(x-h)-f(x)$$\n",
    "\n",
    "Podemos deducir la forma del operador de la serie:\n",
    " $$ f(x-h)=f{\\left (x \\right )} - h \\left. \\frac{d}{d \\xi} f{\\left (\\xi \\right )} \\right|_{\\substack{ \\xi=x }} + \\frac{h^{2}}{2} \\left. \\frac{d^{2}}{d \\xi^{2}}  f{\\left (\\xi \\right )} \\right|_{\\substack{ \\xi=x }} - \\frac{h^{3}}{6} \\left. \\frac{d^{3}}{d \\xi^{3}}  f{\\left (\\xi \\right )} \\right|_{\\substack{ \\xi=x }} + \\mathcal{O}\\left(h^{4}\\right).$$\n",
    " $$\\Rightarrow  \\Delta_{-h}=f(x-h)-f(x)= \\sum_{n=1}^{\\infty} \\frac{1}{n!}(-h)^n\\left.\\frac{d^n}{d\\xi^n}\\right|_{\\substack{ \\xi=x }}$$\n",
    " \n"
   ]
  },
  {
   "cell_type": "markdown",
   "metadata": {},
   "source": [
    "Por el ejercico 6 podemos expresar $\\Delta_{-h}$ como: \n",
    "\n",
    "$$e^{-\\eta}-1=\\phi\\left(-h\\left.\\frac{d}{d\\xi}\\right|_{\\substack{ \\xi=x }}\\right)$$\n",
    "con $$\\eta=\\left.h\\frac{d}{d\\xi}\\right|_{\\substack{ \\xi=x }}$$\n",
    " usando el reultado del Ejercico 6 y lo anterior calculemos:\n",
    " $$\\delta_h=\\Delta_h-\\Delta_{-h}$$\n",
    "$$=e^{\\eta}-1-(e^{-\\eta}-1)=e^{\\eta}-e^{-\\eta}$$\n",
    "$$=2sinh(\\eta)$$\n",
    "__Entonces la relación de $\\delta_h$ con la derivada exacta es:__\n",
    "$$\\delta_h=2sinh(\\left.h\\frac{d}{d\\xi}\\right|_{\\substack{ \\xi=x }})$$\n",
    "Con la expansión de Taylosr de $sinh$ obtenemos:\n",
    " $$\\delta_h=\\Delta_h-\\Delta_{-h}= 2(\\eta+\\frac{\\eta^{3}}{3!}+...)$$\n",
    " Si nos quedamos sólo con el primer término de la serie:\n",
    " \n",
    "  $$\\delta_h= 2\\eta=2\\left.h\\frac{d}{d\\xi}\\right|_{\\substack{ \\xi=x }}+\\mathcal{O}\\left(h^{3}\\right)$$ \n",
    "  \n",
    " \n",
    "   $$\\frac{\\delta_h}{2h}-\\left.\\frac{d}{d\\xi}\\right|_{\\substack{ \\xi=x }}=\\mathcal{O}\\left(h^{2}\\right)$$ \n",
    "   \n",
    "   Que es la __expresión de la convergencia del error con operadores.__\n",
    "   Ya que el operador $\\delta_h$ representa a la derivada simétrica se obtvo el mismo error  que la expresión:\n",
    "   $$\\frac{f(x+h)-f(x-h)}{2h}-f'(x)=\\mathcal{O}(h^2)$$"
   ]
  }
 ],
 "metadata": {
  "kernelspec": {
   "display_name": "Julia 0.6.0",
   "language": "julia",
   "name": "julia-0.6"
  },
  "language_info": {
   "file_extension": ".jl",
   "mimetype": "application/julia",
   "name": "julia",
   "version": "0.6.0"
  }
 },
 "nbformat": 4,
 "nbformat_minor": 2
}
