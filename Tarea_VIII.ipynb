{
 "cells": [
  {
   "cell_type": "markdown",
   "metadata": {},
   "source": [
    "Ejercicio 1."
   ]
  },
  {
   "cell_type": "code",
   "execution_count": 7,
   "metadata": {
    "collapsed": false
   },
   "outputs": [
    {
     "data": {
      "text/plain": [
       "derivada_numerica (generic function with 1 method)"
      ]
     },
     "execution_count": 7,
     "metadata": {},
     "output_type": "execute_result"
    }
   ],
   "source": [
    "function derivada_numerica(f,x0,h)# creamos una función que toma como entradas la función , el punto y la diferencia finita\n",
    "df=(f(x0+h)-f(x0))/h\n",
    "return df #se regresa el valor aproximado de la derivada en el punto x0\n",
    "end"
   ]
  },
  {
   "cell_type": "code",
   "execution_count": 8,
   "metadata": {
    "collapsed": false
   },
   "outputs": [
    {
     "data": {
      "text/plain": [
       "g (generic function with 1 method)"
      ]
     },
     "execution_count": 8,
     "metadata": {},
     "output_type": "execute_result"
    }
   ],
   "source": [
    "g(x)=x^2 # se hace una prueba con esta función"
   ]
  },
  {
   "cell_type": "code",
   "execution_count": 9,
   "metadata": {
    "collapsed": false
   },
   "outputs": [
    {
     "data": {
      "text/plain": [
       "2.0009999999996975"
      ]
     },
     "execution_count": 9,
     "metadata": {},
     "output_type": "execute_result"
    }
   ],
   "source": [
    "derivada_numerica(g,1,0.001) #es bastante cercano al valor real"
   ]
  },
  {
   "cell_type": "code",
   "execution_count": 10,
   "metadata": {
    "collapsed": false
   },
   "outputs": [
    {
     "data": {
      "text/plain": [
       "-0.7074602166965427"
      ]
     },
     "execution_count": 10,
     "metadata": {},
     "output_type": "execute_result"
    }
   ],
   "source": [
    "derivada_numerica(cos,pi/4,0.001)"
   ]
  },
  {
   "cell_type": "code",
   "execution_count": 13,
   "metadata": {
    "collapsed": false
   },
   "outputs": [
    {
     "data": {
      "text/plain": [
       "-0.7071067811865475"
      ]
     },
     "execution_count": 13,
     "metadata": {},
     "output_type": "execute_result"
    }
   ],
   "source": [
    "-sin(pi/4)#se compara con el valor verdadero de la derivada"
   ]
  },
  {
   "cell_type": "markdown",
   "metadata": {},
   "source": [
    "Ejercicio 7.\n",
    "\n",
    "Explotar la relación $\\delta_h=\\Delta_h-\\Delta_{-h}$, donde $\\delta_h:f(x)\\mapsto f(x+h)-f(x-h)$, para encontrar cual es la función $\\theta$ que relaciona a $\\delta_h$ con el operador derivada exacta, es decir:\n",
    "$$\\delta_h=\\theta\\left(h\\left. \\frac{d}{d\\xi}\\right|_{\\xi=x}\\right).$$\n"
   ]
  },
  {
   "cell_type": "markdown",
   "metadata": {},
   "source": [
    "Definimos el operador:\n",
    "$$\\Delta_{-h}:f \\mapsto f(x-h)-f(x)$$\n",
    "\n",
    "Podemos deducir la forma del operador de la serie:\n",
    " $$ f(x-h)=f{\\left (x \\right )} - h \\left. \\frac{d}{d \\xi} f{\\left (\\xi \\right )} \\right|_{\\substack{ \\xi=x }} + \\frac{h^{2}}{2} \\left. \\frac{d^{2}}{d \\xi^{2}}  f{\\left (\\xi \\right )} \\right|_{\\substack{ \\xi=x }} - \\frac{h^{3}}{6} \\left. \\frac{d^{3}}{d \\xi^{3}}  f{\\left (\\xi \\right )} \\right|_{\\substack{ \\xi=x }} + \\mathcal{O}\\left(h^{4}\\right).$$\n",
    " $$\\Rightarrow  \\Delta_{-h}=f(x-h)-f(x)= \\sum_{n=1}^{\\infty} \\frac{1}{n!}(-h)^n\\left.\\frac{d^n}{d\\xi^n}\\right|_{\\substack{ \\xi=x }}$$\n",
    " \n"
   ]
  },
  {
   "cell_type": "markdown",
   "metadata": {},
   "source": [
    "Por el ejercico 6 podemos expresar $\\Delta_{-h}$ como: \n",
    "\n",
    "$$e^{-\\eta}-1=\\phi\\left(-h\\left.\\frac{d}{d\\xi}\\right|_{\\substack{ \\xi=x }}\\right)$$\n",
    "con $$\\eta=\\left.h\\frac{d}{d\\xi}\\right|_{\\substack{ \\xi=x }}$$\n",
    " usando el reultado del Ejercico 6 y lo anterior calculemos:\n",
    " $$\\delta_h=\\Delta_h-\\Delta_{-h}$$\n",
    "$$=e^{\\eta}-1-(e^{-\\eta}-1)=e^{\\eta}-e^{-\\eta}$$\n",
    "$$=2sinh(\\eta)$$\n",
    "__Entonces la relación de $\\delta_h$ con la derivada exacta es:__\n",
    "$$\\delta_h=2sinh(\\left.h\\frac{d}{d\\xi}\\right|_{\\substack{ \\xi=x }})$$\n",
    "$$\\left.\\frac{d}{d\\xi}\\right|_{\\substack{ \\xi=x }}=\\frac{1}{h}sinh^{-1}(\\frac{\\delta_h}{2})$$\n",
    "De la expansión de Taylor $sinh^{-1}(x)=x-\\frac{x^{3}}{6}+...$\n",
    " $$\\Rightarrow\\left.h\\frac{d}{d\\xi}\\right|_{\\substack{ \\xi=x }} = \\frac{\\delta_h}{2}-\\frac{\\delta^{3}_h}{48}$$\n",
    "Si nos quedamos sólo con el primer término.\n",
    "$$\\Rightarrow\\left.h\\frac{d}{d\\xi}\\right|_{\\substack{ \\xi=x }} = \\frac{\\delta_h}{2}+\\mathcal{O}\\left(h^{3}\\right)$$\n",
    "$$\\Rightarrow\\left.\\frac{d}{d\\xi}\\right|_{\\substack{\\xi=x}}-\\frac{\\delta_h}{2h}=\\mathcal{O}\\left(h^{2}\\right)$$"
   ]
  },
  {
   "cell_type": "markdown",
   "metadata": {
    "collapsed": true
   },
   "source": [
    "Se obtuvo el mismo error de la derivda simétrica"
   ]
  }
 ],
 "metadata": {
  "kernelspec": {
   "display_name": "Julia 0.6.0",
   "language": "julia",
   "name": "julia-0.6"
  },
  "language_info": {
   "file_extension": ".jl",
   "mimetype": "application/julia",
   "name": "julia",
   "version": "0.6.0"
  }
 },
 "nbformat": 4,
 "nbformat_minor": 2
}
