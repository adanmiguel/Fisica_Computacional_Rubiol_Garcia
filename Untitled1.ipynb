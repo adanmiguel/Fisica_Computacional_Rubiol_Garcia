{
 "cells": [
  {
   "cell_type": "code",
   "execution_count": 2,
   "metadata": {
    "collapsed": true
   },
   "outputs": [],
   "source": [
    "using PyPlot\n"
   ]
  },
  {
   "cell_type": "code",
   "execution_count": 7,
   "metadata": {
    "collapsed": true
   },
   "outputs": [],
   "source": [
    "function polinomio(init)\n",
    "    list=zeros(Complex64,100);\n",
    "    x=init;\n",
    "    for i in 1:100\n",
    "        f=x^3-x^2-x-1;\n",
    "        df(x)=3x^2-2x-1; \n",
    "        x=x-f/df;\n",
    "        list[i]=x;\n",
    "    end\n",
    "    return list\n",
    "end;"
   ]
  },
  {
   "cell_type": "code",
   "execution_count": 8,
   "metadata": {
    "collapsed": false
   },
   "outputs": [
    {
     "ename": "LoadError",
     "evalue": "\u001b[91mMethodError: no method matching /(::Float64, ::#df#3)\u001b[0m\nClosest candidates are:\n  /(::Float64, \u001b[91m::Float64\u001b[39m) at float.jl:381\n  /(\u001b[91m::PyCall.PyObject\u001b[39m, ::Any) at /home/juser/.julia/v0.6/PyCall/src/pyoperators.jl:11\n  /(::R<:Real, \u001b[91m::S<:Complex\u001b[39m) where {R<:Real, S<:Complex} at complex.jl:278\n  ...\u001b[39m",
     "output_type": "error",
     "traceback": [
      "\u001b[91mMethodError: no method matching /(::Float64, ::#df#3)\u001b[0m\nClosest candidates are:\n  /(::Float64, \u001b[91m::Float64\u001b[39m) at float.jl:381\n  /(\u001b[91m::PyCall.PyObject\u001b[39m, ::Any) at /home/juser/.julia/v0.6/PyCall/src/pyoperators.jl:11\n  /(::R<:Real, \u001b[91m::S<:Complex\u001b[39m) where {R<:Real, S<:Complex} at complex.jl:278\n  ...\u001b[39m",
      "",
      "Stacktrace:",
      " [1] \u001b[1mpolinomio\u001b[22m\u001b[22m\u001b[1m(\u001b[22m\u001b[22m::Float64\u001b[1m)\u001b[22m\u001b[22m at \u001b[1m./In[7]:7\u001b[22m\u001b[22m"
     ]
    }
   ],
   "source": [
    "list1=polinomio(0.1);\n",
    "list2=polinomio(1.1);\n",
    "list3=polinomio(1.5);\n",
    "list4=polinomio(3.5);"
   ]
  },
  {
   "cell_type": "code",
   "execution_count": 9,
   "metadata": {
    "collapsed": false
   },
   "outputs": [
    {
     "ename": "LoadError",
     "evalue": "\u001b[91mUndefVarError: list1 not defined\u001b[39m",
     "output_type": "error",
     "traceback": [
      "\u001b[91mUndefVarError: list1 not defined\u001b[39m",
      ""
     ]
    }
   ],
   "source": [
    "plot(real(list1))\n",
    "plot(real(list2))\n",
    "plot(real(list3))\n",
    "plot(real(list4))\n",
    "show();"
   ]
  },
  {
   "cell_type": "code",
   "execution_count": null,
   "metadata": {
    "collapsed": true
   },
   "outputs": [],
   "source": []
  }
 ],
 "metadata": {
  "kernelspec": {
   "display_name": "Julia 0.6.0",
   "language": "julia",
   "name": "julia-0.6"
  },
  "language_info": {
   "file_extension": ".jl",
   "mimetype": "application/julia",
   "name": "julia",
   "version": "0.6.0"
  }
 },
 "nbformat": 4,
 "nbformat_minor": 2
}
