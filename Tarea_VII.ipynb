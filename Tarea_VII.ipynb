{
 "cells": [
  {
   "cell_type": "code",
   "execution_count": 139,
   "metadata": {
    "collapsed": false
   },
   "outputs": [],
   "source": [
    "using SymPy"
   ]
  },
  {
   "cell_type": "markdown",
   "metadata": {},
   "source": [
    "# Tarea 7 Adán Rubiol\n"
   ]
  },
  {
   "cell_type": "code",
   "execution_count": 140,
   "metadata": {
    "collapsed": false
   },
   "outputs": [
    {
     "data": {
      "text/plain": [
       "metodo_simpson (generic function with 1 method)"
      ]
     },
     "execution_count": 140,
     "metadata": {},
     "output_type": "execute_result"
    }
   ],
   "source": [
    "f=symbols(\"f\")\n",
    "function metodo_simpson(f,a,b,n) \n",
    "    x = a\n",
    "    I = 0\n",
    "    dn=(b-a) / n\n",
    "    while x < b\n",
    "        x = x + dn\n",
    "        I += (b - a) * (f(x) + 4 * f(x + dn/2) + f(x + dn))/ 6n\n",
    "    end\n",
    "   return I #Se regresa el valor de la integral.\n",
    "end"
   ]
  },
  {
   "cell_type": "code",
   "execution_count": 142,
   "metadata": {
    "collapsed": false
   },
   "outputs": [
    {
     "data": {
      "text/plain": [
       "0.9998429080308678"
      ]
     },
     "execution_count": 142,
     "metadata": {},
     "output_type": "execute_result"
    }
   ],
   "source": [
    "metodo_simpson(cos,0,pi/2,10000)"
   ]
  },
  {
   "cell_type": "markdown",
   "metadata": {},
   "source": [
    "Ejercicio 4.1"
   ]
  },
  {
   "cell_type": "code",
   "execution_count": 143,
   "metadata": {
    "collapsed": false
   },
   "outputs": [
    {
     "data": {
      "text/plain": [
       "Lagrange (generic function with 1 method)"
      ]
     },
     "execution_count": 143,
     "metadata": {},
     "output_type": "execute_result"
    }
   ],
   "source": [
    "function Lagrange(listx,listy)#Creamos la función que toma como entradas una lista de elementos xk y elementos en yk de una función.\n",
    "    function Lagrangeinterpolador(x) #se define una función que servirá como la función interpoladora \n",
    "        num = length(x)#Aqui el número de elementos en x a evaluar\n",
    "        num == 1 ? output = 0 : output = zeros(num) #creamos una lista de zeros que serán ocupados para el método de interpolación\n",
    "        for k = 1:num  #Este for es para los elementos que queremos interpolar\n",
    "            N = length(listx)#Asignamos a N el número de elementos en listx\n",
    "            PolinomiosdeLagrange = ones(N)#Para poder hacer el producto  con cada elemento de listx creamos N unos\n",
    "            for i in 1:N   #Este for es para el numero de elementos en listx\n",
    "                for j in [1:i-1;i+1:N]     \n",
    "                    PolinomiosdeLagrange[i] = PolinomiosdeLagrange[i].*(x[k]-listx[j])./(listx[i]-listx[j])\n",
    "                end #Aqui calculamos la base de los polinomios  de lagrange\n",
    "            end\n",
    "            num == 1 ? output = sum(PolinomiosdeLagrange.*listy) : output[k] = sum(PolinomiosdeLagrange.*listy) #en esta parter calculamos la interpolación polinomial en forma de producto.\n",
    "        end\n",
    "        return output # a la salida de la función Lagrangeinterpolador pedimos la interpolacion polinomial\n",
    "    end\n",
    "    return Lagrangeinterpolador # a la salida de la función Lagrange pedimos la función interpoladora\n",
    "end"
   ]
  },
  {
   "cell_type": "code",
   "execution_count": 144,
   "metadata": {
    "collapsed": false
   },
   "outputs": [
    {
     "data": {
      "text/plain": [
       "(::Lagrangeinterpolador) (generic function with 1 method)"
      ]
     },
     "execution_count": 144,
     "metadata": {},
     "output_type": "execute_result"
    }
   ],
   "source": [
    "interpolantfunc=Lagrange([1.0,2.0,4.0,6.0],[1.0,4.0,16.0,36.0])#interpolamos la función x^2 dando los elementos de la lista xk y yk"
   ]
  },
  {
   "cell_type": "code",
   "execution_count": 145,
   "metadata": {
    "collapsed": false
   },
   "outputs": [
    {
     "data": {
      "text/plain": [
       "36.0"
      ]
     },
     "execution_count": 145,
     "metadata": {},
     "output_type": "execute_result"
    }
   ],
   "source": [
    "interpolantfunc(6)#calculamos el valor para un punto dentro del intervalo y vemos que funciona"
   ]
  },
  {
   "cell_type": "code",
   "execution_count": 146,
   "metadata": {
    "collapsed": false
   },
   "outputs": [
    {
     "data": {
      "text/plain": [
       "10-element Array{Float64,1}:\n",
       "  1.0     \n",
       "  0.766044\n",
       "  0.173648\n",
       " -0.5     \n",
       " -0.939693\n",
       " -0.939693\n",
       " -0.5     \n",
       "  0.173648\n",
       "  0.766044\n",
       "  1.0     "
      ]
     },
     "execution_count": 146,
     "metadata": {},
     "output_type": "execute_result"
    }
   ],
   "source": [
    "#Ahora hacemos el ejercicio que se pide en la tarea con la función cos(x)\n",
    "x=linspace(0,2pi,10);#tomamos el arreglo de 10 puntos distribuidos uniformemente de (0,2pi)\n",
    "y=cos.(x) #evaluamos el coseno en los elementos de la lista anterior"
   ]
  },
  {
   "cell_type": "code",
   "execution_count": 147,
   "metadata": {
    "collapsed": false
   },
   "outputs": [],
   "source": [
    "using PyPlot"
   ]
  },
  {
   "cell_type": "code",
   "execution_count": 148,
   "metadata": {
    "collapsed": false
   },
   "outputs": [
    {
     "data": {
      "text/plain": [
       "(::Lagrangeinterpolador) (generic function with 1 method)"
      ]
     },
     "execution_count": 148,
     "metadata": {},
     "output_type": "execute_result"
    }
   ],
   "source": [
    "interpolantfunc=Lagrange(x,y)#definimos la funcion interpoladora cuyas entradas son las listas anteriores"
   ]
  },
  {
   "cell_type": "code",
   "execution_count": 149,
   "metadata": {
    "collapsed": false
   },
   "outputs": [
    {
     "data": {
      "text/plain": [
       "-0.9999943253023464"
      ]
     },
     "execution_count": 149,
     "metadata": {},
     "output_type": "execute_result"
    }
   ],
   "source": [
    "interpolantfunc(pi) #probamos la funcion interpoladora para el punto x=pi cuyo coseno se aproxima a -1 como debe ser"
   ]
  },
  {
   "cell_type": "code",
   "execution_count": 150,
   "metadata": {
    "collapsed": false
   },
   "outputs": [
    {
     "data": {
      "text/plain": [
       "10-element Array{Float64,1}:\n",
       "  1.0     \n",
       "  0.766044\n",
       "  0.173648\n",
       " -0.5     \n",
       " -0.939693\n",
       " -0.939693\n",
       " -0.5     \n",
       "  0.173648\n",
       "  0.766044\n",
       "  1.0     "
      ]
     },
     "execution_count": 150,
     "metadata": {},
     "output_type": "execute_result"
    }
   ],
   "source": [
    "z=interpolantfunc.(x)#creamos otra arreglo de numeros definidos como la funcion interpoladora evaluda en la lista x"
   ]
  },
  {
   "cell_type": "code",
   "execution_count": 151,
   "metadata": {
    "collapsed": false
   },
   "outputs": [
    {
     "data": {
      "image/png": "[encoded data removed]",
      "text/plain": [
       "PyPlot.Figure(PyObject <matplotlib.figure.Figure object at 0x7fc2c93275d0>)"
      ]
     },
     "metadata": {},
     "output_type": "display_data"
    }
   ],
   "source": [
    "plot(x,y,\"o\")\n",
    "plot(x,z)\n",
    "ylim(-1,2)\n",
    "show();"
   ]
  },
  {
   "cell_type": "code",
   "execution_count": 103,
   "metadata": {
    "collapsed": true
   },
   "outputs": [],
   "source": [
    "#Se hace lo mismo pero con la función cos^2(x)"
   ]
  },
  {
   "cell_type": "code",
   "execution_count": 104,
   "metadata": {
    "collapsed": false
   },
   "outputs": [],
   "source": [
    "x=linspace(0,2pi,20);#tomamos el arreglo de 10 puntos distribuidos uniformemente de (0,2pi)\n"
   ]
  },
  {
   "cell_type": "code",
   "execution_count": 105,
   "metadata": {
    "collapsed": false
   },
   "outputs": [
    {
     "data": {
      "text/plain": [
       "square (generic function with 1 method)"
      ]
     },
     "execution_count": 105,
     "metadata": {},
     "output_type": "execute_result"
    }
   ],
   "source": [
    "square(x) = x^2\n"
   ]
  },
  {
   "cell_type": "code",
   "execution_count": 106,
   "metadata": {
    "collapsed": false
   },
   "outputs": [
    {
     "data": {
      "text/plain": [
       "20-element Array{Float64,1}:\n",
       " 1.0       \n",
       " 0.89457   \n",
       " 0.622743  \n",
       " 0.299152  \n",
       " 0.0602631 \n",
       " 0.00681935\n",
       " 0.161359  \n",
       " 0.45871   \n",
       " 0.773474  \n",
       " 0.972909  \n",
       " 0.972909  \n",
       " 0.773474  \n",
       " 0.45871   \n",
       " 0.161359  \n",
       " 0.00681935\n",
       " 0.0602631 \n",
       " 0.299152  \n",
       " 0.622743  \n",
       " 0.89457   \n",
       " 1.0       "
      ]
     },
     "execution_count": 106,
     "metadata": {},
     "output_type": "execute_result"
    }
   ],
   "source": [
    "w=square.(cos.(x))"
   ]
  },
  {
   "cell_type": "code",
   "execution_count": 107,
   "metadata": {
    "collapsed": false
   },
   "outputs": [
    {
     "data": {
      "text/plain": [
       "(::Lagrangeinterpolador) (generic function with 1 method)"
      ]
     },
     "execution_count": 107,
     "metadata": {},
     "output_type": "execute_result"
    }
   ],
   "source": [
    "interpolantfunc2=Lagrange(x,w)"
   ]
  },
  {
   "cell_type": "code",
   "execution_count": 108,
   "metadata": {
    "collapsed": false
   },
   "outputs": [
    {
     "data": {
      "text/plain": [
       "20-element Array{Float64,1}:\n",
       " 1.0       \n",
       " 0.89457   \n",
       " 0.622743  \n",
       " 0.299152  \n",
       " 0.0602631 \n",
       " 0.00681935\n",
       " 0.161359  \n",
       " 0.45871   \n",
       " 0.773474  \n",
       " 0.972909  \n",
       " 0.972909  \n",
       " 0.773474  \n",
       " 0.45871   \n",
       " 0.161359  \n",
       " 0.00681935\n",
       " 0.0602631 \n",
       " 0.299152  \n",
       " 0.622743  \n",
       " 0.89457   \n",
       " 1.0       "
      ]
     },
     "execution_count": 108,
     "metadata": {},
     "output_type": "execute_result"
    }
   ],
   "source": [
    "Y=interpolantfunc2.(x)"
   ]
  },
  {
   "cell_type": "code",
   "execution_count": 109,
   "metadata": {
    "collapsed": false
   },
   "outputs": [
    {
     "data": {
      "image/png": "[encoded data removed]",
      "text/plain": [
       "PyPlot.Figure(PyObject <matplotlib.figure.Figure object at 0x7fc2c95e5350>)"
      ]
     },
     "metadata": {},
     "output_type": "display_data"
    }
   ],
   "source": [
    "plot(x,w,\"o\")\n",
    "plot(x,Y)\n",
    "ylim(0,2)\n",
    "show();"
   ]
  },
  {
   "cell_type": "markdown",
   "metadata": {},
   "source": [
    "Ejercicio 4.2"
   ]
  },
  {
   "cell_type": "markdown",
   "metadata": {},
   "source": [
    "Interpolaremos los siguientes puntos  [(0,10),(2,-10),(3,-4),(4,0),(5,5),(6,20),(7,-1)]"
   ]
  },
  {
   "cell_type": "code",
   "execution_count": 110,
   "metadata": {
    "collapsed": false
   },
   "outputs": [
    {
     "data": {
      "text/plain": [
       "7-element Array{Int64,1}:\n",
       "  10\n",
       " -10\n",
       "  -4\n",
       "   0\n",
       "   5\n",
       "  20\n",
       "  -1"
      ]
     },
     "execution_count": 110,
     "metadata": {},
     "output_type": "execute_result"
    }
   ],
   "source": [
    "#Para ello creamos las siguientes listas\n",
    "listax=[0,2,3,4,5,6,7]\n",
    "listay=[10,-10,-4,0,5,20,-1]\n"
   ]
  },
  {
   "cell_type": "code",
   "execution_count": 111,
   "metadata": {
    "collapsed": false
   },
   "outputs": [
    {
     "data": {
      "text/plain": [
       "(::Lagrangeinterpolador) (generic function with 1 method)"
      ]
     },
     "execution_count": 111,
     "metadata": {},
     "output_type": "execute_result"
    }
   ],
   "source": [
    "interpolantfunc3=Lagrange(listax,listay)"
   ]
  },
  {
   "cell_type": "code",
   "execution_count": 126,
   "metadata": {
    "collapsed": false
   },
   "outputs": [
    {
     "data": {
      "text/plain": [
       "7-element Array{Float64,1}:\n",
       "  10.0\n",
       " -10.0\n",
       "  -4.0\n",
       "   0.0\n",
       "   5.0\n",
       "  20.0\n",
       "  -1.0"
      ]
     },
     "execution_count": 126,
     "metadata": {},
     "output_type": "execute_result"
    }
   ],
   "source": [
    "Z=interpolantfunc3(listax)"
   ]
  },
  {
   "cell_type": "code",
   "execution_count": 128,
   "metadata": {
    "collapsed": false
   },
   "outputs": [
    {
     "data": {
      "image/png": "[encoded data removed]",
      "text/plain": [
       "PyPlot.Figure(PyObject <matplotlib.figure.Figure object at 0x7fc2c9629f50>)"
      ]
     },
     "metadata": {},
     "output_type": "display_data"
    },
    {
     "data": {
      "text/plain": [
       "1-element Array{Any,1}:\n",
       " PyObject <matplotlib.lines.Line2D object at 0x7fc2c933fb10>"
      ]
     },
     "execution_count": 128,
     "metadata": {},
     "output_type": "execute_result"
    }
   ],
   "source": [
    "plot(listax,Z,)\n"
   ]
  },
  {
   "cell_type": "code",
   "execution_count": 5,
   "metadata": {
    "collapsed": false
   },
   "outputs": [
    {
     "ename": "LoadError",
     "evalue": "\u001b[91msyntax: invalid iteration specification\u001b[39m",
     "output_type": "error",
     "traceback": [
      "\u001b[91msyntax: invalid iteration specification\u001b[39m",
      ""
     ]
    }
   ],
   "source": [
    "function trapecio(f,a,b,n) #Creamos una función que toma como entrada la función f, el intervalo (a,b) y la cantidad de diferencias finitas n\n",
    "    x=a # Se toma como primer valor la variable a\n",
    "    I=0 # Iniciamos  el valor de la integral en cero \n",
    "    dn=(b-a)/n # definimos el tamaño de la diferencia finita      \n",
    "    for n<100000\n",
    "        n += 1\n",
    "    while x<b\n",
    "         #damos la condición de iteración hata valores menores que b\n",
    "        x=x+dn #iteramos en caca punto del intervalo\n",
    "        I += (b-a)*(f(x)+f(x+dn))/2n\n",
    "        n += 1 #Se define la iteración en la integral dada por el método del rectángulo\n",
    "        \n",
    "    end\n",
    "        list[i]=I\n",
    "    end\n",
    "    \n",
    "   return list  #Se regresa el valor de la integral\n",
    "end"
   ]
  },
  {
   "cell_type": "code",
   "execution_count": 160,
   "metadata": {
    "collapsed": false
   },
   "outputs": [
    {
     "ename": "LoadError",
     "evalue": "\u001b[91mMethodError: no method matching -(::Base.#sin)\u001b[0m\nClosest candidates are:\n  -(\u001b[91m::Bool\u001b[39m, \u001b[91m::Complex{Bool}\u001b[39m) at complex.jl:234\n  -(\u001b[91m::Bool\u001b[39m, \u001b[91m::Bool\u001b[39m) at bool.jl:90\n  -(\u001b[91m::Bool\u001b[39m) at bool.jl:87\n  ...\u001b[39m",
     "output_type": "error",
     "traceback": [
      "\u001b[91mMethodError: no method matching -(::Base.#sin)\u001b[0m\nClosest candidates are:\n  -(\u001b[91m::Bool\u001b[39m, \u001b[91m::Complex{Bool}\u001b[39m) at complex.jl:234\n  -(\u001b[91m::Bool\u001b[39m, \u001b[91m::Bool\u001b[39m) at bool.jl:90\n  -(\u001b[91m::Bool\u001b[39m) at bool.jl:87\n  ...\u001b[39m",
      ""
     ]
    }
   ],
   "source": [
    "trapecio(-sin,0,2pi,10)"
   ]
  },
  {
   "cell_type": "raw",
   "metadata": {},
   "source": []
  }
 ],
 "metadata": {
  "kernelspec": {
   "display_name": "Julia 0.6.0",
   "language": "julia",
   "name": "julia-0.6"
  },
  "language_info": {
   "file_extension": ".jl",
   "mimetype": "application/julia",
   "name": "julia",
   "version": "0.6.0"
  }
 },
 "nbformat": 4,
 "nbformat_minor": 2
}
