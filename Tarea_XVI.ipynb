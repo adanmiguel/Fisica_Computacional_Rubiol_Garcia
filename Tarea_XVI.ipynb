{
 "cells": [
  {
   "cell_type": "markdown",
   "metadata": {},
   "source": [
    "# Tarea 16 Adán Rubiol"
   ]
  },
  {
   "cell_type": "markdown",
   "metadata": {},
   "source": [
    "__Ejercicio 1__: ¿Cómo podemos evaluar funciones en matrices?"
   ]
  },
  {
   "cell_type": "markdown",
   "metadata": {},
   "source": [
    "La operacion bien definida en matrices son la composición "
   ]
  },
  {
   "cell_type": "markdown",
   "metadata": {},
   "source": [
    "Así si tenemos una función  $F(x)$ y la evaluamos en A"
   ]
  },
  {
   "cell_type": "markdown",
   "metadata": {},
   "source": [
    "Tomamos su expansión de Taylor;\n",
    "\n",
    "\n",
    "$$F(A)= \\sum_{n=0}^{\\infty} \\frac{F^{(n)}(0)}{n!}A^{n}$$ \n",
    "\n",
    "con  $$A^{n}=A\\circ A\\circ  A \\circ A..  n-veces$$, es decir la multiplicar la matriz n veces así;\n",
    "\n",
    "$$e^{A} =  \\sum_{n=0}^{\\infty} \\frac{A^{n}}{n!}$$"
   ]
  },
  {
   "cell_type": "markdown",
   "metadata": {},
   "source": [
    "__Ejercicio 2:__ ¿Como se define una matriz simétrica?"
   ]
  },
  {
   "cell_type": "markdown",
   "metadata": {},
   "source": [
    "Se define una matriz A simétrica si A es igual a su transpuesta\n",
    "$A=A^{T}$ así para cualquier elemento se verifica $a_{ij}=a_{ji}$"
   ]
  },
  {
   "cell_type": "markdown",
   "metadata": {},
   "source": [
    "__Ejercicio 3:__ ¿Como puede construir una matriz simétrica a partir de cualquier matriz cuadrada?"
   ]
  },
  {
   "cell_type": "markdown",
   "metadata": {},
   "source": [
    "Dada cualquier matriz cuadrada A calculamos su transpuesta A' y así la suma A=A+A' será una matriz simétrica."
   ]
  },
  {
   "cell_type": "code",
   "execution_count": 16,
   "metadata": {},
   "outputs": [
    {
     "data": {
      "text/plain": [
       "8×8 Array{Float64,2}:\n",
       " 0.712562   0.398402   0.605542   …  0.374803  0.271385   0.840312 \n",
       " 0.383767   0.417989   0.0764795     0.867113  0.166878   0.458455 \n",
       " 0.0747538  0.0513964  0.770908      0.487486  0.716882   0.544068 \n",
       " 0.244139   0.921669   0.717699      0.547398  0.882649   0.817036 \n",
       " 0.483402   0.544814   0.760151      0.93382   0.960176   0.899292 \n",
       " 0.875378   0.193156   0.0566382  …  0.702781  0.739133   0.580863 \n",
       " 0.0432942  0.536618   0.494989      0.364708  0.326361   0.0837153\n",
       " 0.822032   0.0155948  0.185764      0.36305   0.0767812  0.396881 "
      ]
     },
     "execution_count": 16,
     "metadata": {},
     "output_type": "execute_result"
    }
   ],
   "source": [
    "a=rand(8,8)"
   ]
  },
  {
   "cell_type": "code",
   "execution_count": 17,
   "metadata": {},
   "outputs": [
    {
     "data": {
      "text/plain": [
       "8×8 Array{Float64,2}:\n",
       " 0.712562  0.383767   0.0747538  …  0.875378    0.0432942  0.822032 \n",
       " 0.398402  0.417989   0.0513964     0.193156    0.536618   0.0155948\n",
       " 0.605542  0.0764795  0.770908      0.0566382   0.494989   0.185764 \n",
       " 0.806199  0.456957   0.654851      0.00550764  0.895988   0.997896 \n",
       " 0.318127  0.384012   0.615998      0.314123    0.384261   0.831714 \n",
       " 0.374803  0.867113   0.487486   …  0.702781    0.364708   0.36305  \n",
       " 0.271385  0.166878   0.716882      0.739133    0.326361   0.0767812\n",
       " 0.840312  0.458455   0.544068      0.580863    0.0837153  0.396881 "
      ]
     },
     "execution_count": 17,
     "metadata": {},
     "output_type": "execute_result"
    }
   ],
   "source": [
    "a'\n"
   ]
  },
  {
   "cell_type": "code",
   "execution_count": 18,
   "metadata": {},
   "outputs": [
    {
     "data": {
      "text/plain": [
       "8×8 Array{Float64,2}:\n",
       " 1.42512   0.782168  0.680295  1.05034   …  1.25018   0.314679  1.66234 \n",
       " 0.782168  0.835979  0.127876  1.37863      1.06027   0.703495  0.47405 \n",
       " 0.680295  0.127876  1.54182   1.37255      0.544124  1.21187   0.729832\n",
       " 1.05034   1.37863   1.37255   1.48595      0.552905  1.77864   1.81493 \n",
       " 0.801529  0.928826  1.37615   1.40222      1.24794   1.34444   1.73101 \n",
       " 1.25018   1.06027   0.544124  0.552905  …  1.40556   1.10384   0.943913\n",
       " 0.314679  0.703495  1.21187   1.77864      1.10384   0.652723  0.160496\n",
       " 1.66234   0.47405   0.729832  1.81493      0.943913  0.160496  0.793763"
      ]
     },
     "execution_count": 18,
     "metadata": {},
     "output_type": "execute_result"
    }
   ],
   "source": [
    "A=a+a'"
   ]
  },
  {
   "cell_type": "markdown",
   "metadata": {},
   "source": [
    "__Ejercicio 4:__ Construya el propagador $e^{A t}$ para cada tiempo sobre una malla y uselo para propagar un estado inicial $\\vec x_0$ cualquiera. Utilice:\n",
    "$$A=\\left(\\begin{array}{cc} 1 & 1\\\\ -1 & 1 \\end{array} \\right).$$\n",
    "* Grafique la trayectoria en el espacio de fase."
   ]
  },
  {
   "cell_type": "code",
   "execution_count": 19,
   "metadata": {},
   "outputs": [
    {
     "data": {
      "text/plain": [
       "2×2 Array{Int64,2}:\n",
       " -1   1\n",
       " -1  -1"
      ]
     },
     "execution_count": 19,
     "metadata": {},
     "output_type": "execute_result"
    }
   ],
   "source": [
    "A=[-1 1; -1 -1]#se define la matriz A"
   ]
  },
  {
   "cell_type": "code",
   "execution_count": 20,
   "metadata": {},
   "outputs": [
    {
     "data": {
      "text/plain": [
       "2-element Array{Complex{Float64},1}:\n",
       " -1.0+1.0im\n",
       " -1.0-1.0im"
      ]
     },
     "execution_count": 20,
     "metadata": {},
     "output_type": "execute_result"
    }
   ],
   "source": [
    "vals=eigvals(A)"
   ]
  },
  {
   "cell_type": "code",
   "execution_count": 21,
   "metadata": {},
   "outputs": [
    {
     "data": {
      "text/plain": [
       "2×2 Array{Complex{Float64},2}:\n",
       " 0.198766+0.30956im       0.0+0.0im    \n",
       "      0.0+0.0im      0.198766-0.30956im"
      ]
     },
     "execution_count": 21,
     "metadata": {},
     "output_type": "execute_result"
    }
   ],
   "source": [
    "D=diagm(exp.(vals)) "
   ]
  },
  {
   "cell_type": "code",
   "execution_count": 22,
   "metadata": {},
   "outputs": [
    {
     "data": {
      "text/plain": [
       "2×2 Array{Complex{Float64},2}:\n",
       " 0.707107+0.0im       0.707107-0.0im     \n",
       "      0.0+0.707107im       0.0-0.707107im"
      ]
     },
     "execution_count": 22,
     "metadata": {},
     "output_type": "execute_result"
    }
   ],
   "source": [
    "w=eigvecs(A)"
   ]
  },
  {
   "cell_type": "code",
   "execution_count": 23,
   "metadata": {},
   "outputs": [
    {
     "data": {
      "text/plain": [
       "2×2 Array{Complex{Float64},2}:\n",
       " 0.198766+0.0im   0.30956+0.0im\n",
       " -0.30956+0.0im  0.198766+0.0im"
      ]
     },
     "execution_count": 23,
     "metadata": {},
     "output_type": "execute_result"
    }
   ],
   "source": [
    "expA=w*D*inv(w)"
   ]
  },
  {
   "cell_type": "code",
   "execution_count": 24,
   "metadata": {},
   "outputs": [
    {
     "name": "stderr",
     "output_type": "stream",
     "text": [
      "WARNING: Method definition f(Any, Any) in module Main at In[9]:1 overwritten at In[24]:1.\n"
     ]
    },
    {
     "data": {
      "text/plain": [
       "f (generic function with 1 method)"
      ]
     },
     "execution_count": 24,
     "metadata": {},
     "output_type": "execute_result"
    }
   ],
   "source": [
    "f(x,t)=(expA)*[x[1],x[2]]#tomamos la función de evolución para exp(A)"
   ]
  },
  {
   "cell_type": "code",
   "execution_count": 25,
   "metadata": {},
   "outputs": [
    {
     "name": "stderr",
     "output_type": "stream",
     "text": [
      "WARNING: Method definition euler(Any, Any, Any) in module Main at In[10]:2 overwritten at In[25]:2.\n"
     ]
    },
    {
     "data": {
      "text/plain": [
       "euler (generic function with 1 method)"
      ]
     },
     "execution_count": 25,
     "metadata": {},
     "output_type": "execute_result"
    }
   ],
   "source": [
    "function euler(f,list,x0)\n",
    "     x = x0\n",
    "     h = list[2]-list[1]\n",
    "     listx=[]\n",
    "     push!(listx,x)\n",
    "     for i in 2:length(list)\n",
    "        t = i*h\n",
    "        x = x + f(x,t)*h\n",
    "        push!(listx,x) \n",
    "     end\n",
    "     return listx\n",
    "end"
   ]
  },
  {
   "cell_type": "code",
   "execution_count": null,
   "metadata": {},
   "outputs": [],
   "source": []
  },
  {
   "cell_type": "code",
   "execution_count": 26,
   "metadata": {},
   "outputs": [
    {
     "name": "stderr",
     "output_type": "stream",
     "text": [
      "WARNING: imported binding for vec overwritten in module Main\n"
     ]
    }
   ],
   "source": [
    "list=0:0.01:100;\n",
    "vec=euler(f,list,[1,0]);#por el método de euler resolvemos el sistema"
   ]
  },
  {
   "cell_type": "code",
   "execution_count": 27,
   "metadata": {},
   "outputs": [],
   "source": [
    "listx1=map(x->x[1],vec);\n",
    "listx2=map(x->x[2],vec);"
   ]
  },
  {
   "cell_type": "code",
   "execution_count": 28,
   "metadata": {},
   "outputs": [],
   "source": [
    "using PyPlot"
   ]
  },
  {
   "cell_type": "code",
   "execution_count": 29,
   "metadata": {},
   "outputs": [
    {
     "data": {
      "image/png": "[encoded data removed]",
      "text/plain": [
       "PyPlot.Figure(PyObject <matplotlib.figure.Figure object at 0x7f93fd1bb290>)"
      ]
     },
     "metadata": {},
     "output_type": "display_data"
    },
    {
     "name": "stderr",
     "output_type": "stream",
     "text": [
      "/usr/local/lib/python2.7/dist-packages/numpy/core/numeric.py:531: ComplexWarning: Casting complex values to real discards the imaginary part\n",
      "  return array(a, dtype, copy=False, order=order)\n"
     ]
    },
    {
     "data": {
      "text/plain": [
       "PyObject <matplotlib.text.Text object at 0x7f93f8f16810>"
      ]
     },
     "execution_count": 29,
     "metadata": {},
     "output_type": "execute_result"
    }
   ],
   "source": [
    "plot(list,listx1)\n",
    "plot(list,listx2);\n",
    "xlabel(\"t\");ylabel(\"x\")\n",
    "# Ahora se grafica x vs t "
   ]
  },
  {
   "cell_type": "code",
   "execution_count": 30,
   "metadata": {},
   "outputs": [
    {
     "data": {
      "image/png": "[encoded data removed]",
      "text/plain": [
       "PyPlot.Figure(PyObject <matplotlib.figure.Figure object at 0x7f93fd1dbe10>)"
      ]
     },
     "metadata": {},
     "output_type": "display_data"
    },
    {
     "data": {
      "text/plain": [
       "PyObject <matplotlib.text.Text object at 0x7f93f8e6c5d0>"
      ]
     },
     "execution_count": 30,
     "metadata": {},
     "output_type": "execute_result"
    }
   ],
   "source": [
    "plot(listx1,listx2)\n",
    "xlabel(\"x\");ylabel(\"y\")\n",
    "#se grafica X vs Y"
   ]
  }
 ],
 "metadata": {
  "kernelspec": {
   "display_name": "Julia 0.5.2",
   "language": "julia",
   "name": "julia-0.5"
  },
  "language_info": {
   "file_extension": ".jl",
   "mimetype": "application/julia",
   "name": "julia",
   "version": "0.5.2"
  }
 },
 "nbformat": 4,
 "nbformat_minor": 2
}
