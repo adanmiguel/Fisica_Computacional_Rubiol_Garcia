{
 "cells": [
  {
   "cell_type": "markdown",
   "metadata": {},
   "source": [
    "# Tarea 16 Adán Rubiol"
   ]
  },
  {
   "cell_type": "markdown",
   "metadata": {},
   "source": [
    "__Ejercicio 1__: ¿Cómo podemos evaluar funciones en matrices?"
   ]
  },
  {
   "cell_type": "markdown",
   "metadata": {},
   "source": [
    "La operacion bien definida en matrices son la composición "
   ]
  },
  {
   "cell_type": "markdown",
   "metadata": {},
   "source": [
    "Así si tenemos una función  $F(x)$ y la evaluamos en A"
   ]
  },
  {
   "cell_type": "markdown",
   "metadata": {},
   "source": [
    "Tomamos su expansión de Taylor;\n",
    "\n",
    "\n",
    "$$F(A)= \\sum_{n=0}^{\\infty} \\frac{F^{(n)}(0)}{n!}A^{n}$$ \n",
    "\n",
    "con  $$A^{n}=A\\circ A\\circ  A \\circ A..  n-veces$$, es decir la multiplicar la matriz n veces así;\n",
    "\n",
    "$$e^{A} =  \\sum_{n=0}^{\\infty} \\frac{A^{n}}{n!}$$"
   ]
  },
  {
   "cell_type": "markdown",
   "metadata": {},
   "source": [
    "__Ejercicio 2:__ ¿Como se define una matriz simétrica?"
   ]
  },
  {
   "cell_type": "markdown",
   "metadata": {},
   "source": [
    "Se define una matriz A simétrica si A es igual a su transpuesta\n",
    "$A=A^{T}$ así para cualquier elemento se verifica $a_{ij}=a_{ji}$"
   ]
  },
  {
   "cell_type": "markdown",
   "metadata": {},
   "source": [
    "__Ejercicio 3:__ ¿Como puede construir una matriz simétrica a partir de cualquier matriz cuadrada?"
   ]
  },
  {
   "cell_type": "markdown",
   "metadata": {},
   "source": [
    "Dada cualquier matriz cuadrada podemos tomar los elementos que estan  de la diagional hacia arriba, es decir los $a_{ij}$, con $j\\geq i$, y reflejarlos en la digonal de abajo de tal manera que $a_{ij}$=$a_{ji}$\n",
    "También podemos hacer lo mismo con los elementos que estan de la diagonal hacia abajo.  es decir con $i \\geq j$"
   ]
  },
  {
   "cell_type": "markdown",
   "metadata": {},
   "source": [
    "__Ejercicio 4:__ Construya el propagador $e^{A t}$ para cada tiempo sobre una malla y uselo para propagar un estado inicial $\\vec x_0$ cualquiera. Utilice:\n",
    "$$A=\\left(\\begin{array}{cc} 1 & 1\\\\ -1 & 1 \\end{array} \\right).$$\n",
    "* Grafique la trayectoria en el espacio de fase."
   ]
  },
  {
   "cell_type": "code",
   "execution_count": 46,
   "metadata": {},
   "outputs": [
    {
     "data": {
      "text/plain": [
       "2×2 Array{Int64,2}:\n",
       "  1  1\n",
       " -1  1"
      ]
     },
     "execution_count": 46,
     "metadata": {},
     "output_type": "execute_result"
    }
   ],
   "source": [
    "A=[1 1; -1 1]#se define la matriz A"
   ]
  },
  {
   "cell_type": "code",
   "execution_count": 47,
   "metadata": {},
   "outputs": [
    {
     "data": {
      "text/plain": [
       "2×2 Array{Float64,2}:\n",
       "  1.46869  2.28736\n",
       " -2.28736  1.46869"
      ]
     },
     "execution_count": 47,
     "metadata": {},
     "output_type": "execute_result"
    }
   ],
   "source": [
    "expm(A)"
   ]
  },
  {
   "cell_type": "code",
   "execution_count": 48,
   "metadata": {},
   "outputs": [
    {
     "name": "stderr",
     "output_type": "stream",
     "text": [
      "WARNING: Method definition f(Any, Any) in module Main at In[38]:1 overwritten at In[48]:1.\n"
     ]
    },
    {
     "data": {
      "text/plain": [
       "f (generic function with 1 method)"
      ]
     },
     "execution_count": 48,
     "metadata": {},
     "output_type": "execute_result"
    }
   ],
   "source": [
    "f(x,t)=(expm(A))*[x[1],x[2]]#tomamos la función de evolución para exp(A)"
   ]
  },
  {
   "cell_type": "code",
   "execution_count": 49,
   "metadata": {},
   "outputs": [
    {
     "name": "stderr",
     "output_type": "stream",
     "text": [
      "WARNING: Method definition euler(Any, Any, Any) in module Main at In[39]:2 overwritten at In[49]:2.\n"
     ]
    },
    {
     "data": {
      "text/plain": [
       "euler (generic function with 1 method)"
      ]
     },
     "execution_count": 49,
     "metadata": {},
     "output_type": "execute_result"
    }
   ],
   "source": [
    "function euler(f,list,x0)\n",
    "     x = x0\n",
    "     h = list[2]-list[1]\n",
    "     listx=[]\n",
    "     push!(listx,x)\n",
    "     for i in 2:length(list)\n",
    "        t = i*h\n",
    "        x = x + f(x,t)*h\n",
    "        push!(listx,x) \n",
    "     end\n",
    "     return listx\n",
    "end"
   ]
  },
  {
   "cell_type": "code",
   "execution_count": 50,
   "metadata": {},
   "outputs": [],
   "source": [
    "list=0:0.01:20;\n",
    "vec=euler(f,list,[2,3]);#por el método de euler resolvemos el sistema"
   ]
  },
  {
   "cell_type": "code",
   "execution_count": 51,
   "metadata": {},
   "outputs": [],
   "source": [
    "listx1=map(x->x[1],vec);\n",
    "listx2=map(x->x[2],vec);"
   ]
  },
  {
   "cell_type": "code",
   "execution_count": 52,
   "metadata": {},
   "outputs": [],
   "source": [
    "using PyPlot"
   ]
  },
  {
   "cell_type": "code",
   "execution_count": 56,
   "metadata": {},
   "outputs": [
    {
     "data": {
      "image/png": "[encoded data removed]",
      "text/plain": [
       "PyPlot.Figure(PyObject <matplotlib.figure.Figure object at 0x7f0768ed7d10>)"
      ]
     },
     "metadata": {},
     "output_type": "display_data"
    },
    {
     "data": {
      "text/plain": [
       "PyObject <matplotlib.text.Text object at 0x7f0768e4bad0>"
      ]
     },
     "execution_count": 56,
     "metadata": {},
     "output_type": "execute_result"
    }
   ],
   "source": [
    "plot(list,listx1)\n",
    "plot(list,listx2);\n",
    "xlabel(\"t\");ylabel(\"x\")\n",
    "# Ahora se grafica x vs t "
   ]
  },
  {
   "cell_type": "code",
   "execution_count": 58,
   "metadata": {},
   "outputs": [
    {
     "data": {
      "image/png": "[encoded data removed]",
      "text/plain": [
       "PyPlot.Figure(PyObject <matplotlib.figure.Figure object at 0x7f0768d7c710>)"
      ]
     },
     "metadata": {},
     "output_type": "display_data"
    },
    {
     "data": {
      "text/plain": [
       "PyObject <matplotlib.text.Text object at 0x7f0768cfcf50>"
      ]
     },
     "execution_count": 58,
     "metadata": {},
     "output_type": "execute_result"
    }
   ],
   "source": [
    "plot(listx1,listx2)\n",
    "xlabel(\"x\");ylabel(\"y\")\n",
    "#se grafica X vs Y"
   ]
  },
  {
   "cell_type": "code",
   "execution_count": null,
   "metadata": {},
   "outputs": [],
   "source": []
  }
 ],
 "metadata": {
  "kernelspec": {
   "display_name": "Julia 0.5.2",
   "language": "julia",
   "name": "julia-0.5"
  },
  "language_info": {
   "file_extension": ".jl",
   "mimetype": "application/julia",
   "name": "julia",
   "version": "0.5.2"
  }
 },
 "nbformat": 4,
 "nbformat_minor": 2
}
